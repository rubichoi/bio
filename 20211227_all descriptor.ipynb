{
 "cells": [
  {
   "cell_type": "code",
   "execution_count": 1,
   "id": "c0537000",
   "metadata": {
    "scrolled": true
   },
   "outputs": [
    {
     "name": "stderr",
     "output_type": "stream",
     "text": [
      "sh: 1: curl: not found\n",
      "\n",
      "gzip: stdin: unexpected end of file\n",
      "tar: Child returned status 1\n",
      "tar: Error is not recoverable: exiting now\n"
     ]
    }
   ],
   "source": [
    "# rdkit 2020.03.3 버전 다운로드\n",
    "!pip install kora -q\n",
    "import kora.install.rdkit\n",
    "# !pip install pycaret\n",
    "# from pycaret.classification import *\n",
    "import numpy\n",
    "import pandas\n",
    "import numpy as np\n",
    "import pandas as pd\n",
    "\n",
    "from rdkit.Chem import AllChem\n",
    "from rdkit import DataStructs\n",
    "from rdkit.Chem import Draw\n",
    "from rdkit.Chem.Draw import SimilarityMaps\n",
    "from rdkit import Chem, DataStructs\n",
    "from rdkit.Chem import MACCSkeys"
   ]
  },
  {
   "cell_type": "code",
   "execution_count": null,
   "id": "1f8800c4",
   "metadata": {},
   "outputs": [],
   "source": [
    "#List of Available Descriptors\n",
    "Gasteiger/Marsili Partial Charges\n",
    "BalabanJ\n",
    "BertzCT\n",
    "Ipc\n",
    "HallKierAlpha\n",
    "Kappa1 - Kappa3\n",
    "Chi0, Chi1\n",
    "Chi0n - Chi4n\n",
    "Chi0v - Chi4v\n",
    "MolLogP\n",
    "MolMR\n",
    "MolWt\n",
    "ExactMolWt\n",
    "HeavyAtomCount\n",
    "HeavyAtomMolWt\n",
    "NHOHCount\n",
    "NOCount\n",
    "NumHAcceptors\n",
    "NumHDonors\n",
    "NumHeteroatoms\n",
    "NumRotatableBonds\n",
    "NumValenceElectrons\n",
    "NumAmideBonds\n",
    "Num{Aromatic,Saturated,Aliphatic}Rings\n",
    "Num{Aromatic,Saturated,Aliphatic}{Hetero,Carbo}cycles\n",
    "RingCount\n",
    "FractionCSP3\n",
    "NumSpiroAtoms\n",
    "NumBridgeheadAtoms\n",
    "TPSA\n",
    "LabuteASA\n",
    "PEOE_VSA1 - PEOE_VSA14\n",
    "SMR_VSA1 - SMR_VSA10\n",
    "SlogP_VSA1 - SlogP_VSA12\n",
    "EState_VSA1 - EState_VSA11\n",
    "VSA_EState1 - VSA_EState10\n",
    "MQNs\n",
    "Topliss fragments\n",
    "Autocorr2D\n",
    "BCUT2D"
   ]
  },
  {
   "cell_type": "code",
   "execution_count": 3,
   "id": "d7884d72",
   "metadata": {},
   "outputs": [],
   "source": [
    "import rdkit"
   ]
  },
  {
   "cell_type": "code",
   "execution_count": 4,
   "id": "8227ae0a",
   "metadata": {},
   "outputs": [
    {
     "data": {
      "text/plain": [
       "'2021.09.2'"
      ]
     },
     "execution_count": 4,
     "metadata": {},
     "output_type": "execute_result"
    }
   ],
   "source": [
    "rdkit.__version__"
   ]
  },
  {
   "cell_type": "code",
   "execution_count": 6,
   "id": "b3f9bf84",
   "metadata": {},
   "outputs": [],
   "source": [
    "from rdkit.Chem import Descriptors\n",
    "from rdkit.Chem import AllChem\n",
    "from rdkit import DataStructs\n",
    "from rdkit.Chem import Draw\n",
    "from rdkit.Chem.Draw import SimilarityMaps\n",
    "from rdkit import Chem, DataStructs\n",
    "from rdkit.Chem import MACCSkeys\n",
    "m = Chem.MolFromSmiles('c1ccccc1C(=O)O')"
   ]
  },
  {
   "cell_type": "code",
   "execution_count": 7,
   "id": "5d0d3369",
   "metadata": {},
   "outputs": [
    {
     "data": {
      "text/plain": [
       "37.3"
      ]
     },
     "execution_count": 7,
     "metadata": {},
     "output_type": "execute_result"
    }
   ],
   "source": [
    "Descriptors.TPSA(m). # TPSA 구현은 기본적으로 N 및 O 원자의 기여만 포함합니다."
   ]
  },
  {
   "cell_type": "code",
   "execution_count": 8,
   "id": "a17df91e",
   "metadata": {},
   "outputs": [
    {
     "data": {
      "text/plain": [
       "1.3848"
      ]
     },
     "execution_count": 8,
     "metadata": {},
     "output_type": "execute_result"
    }
   ],
   "source": [
    "Descriptors.MolLogP(m)"
   ]
  },
  {
   "cell_type": "code",
   "execution_count": 9,
   "id": "154bb414",
   "metadata": {},
   "outputs": [
    {
     "name": "stdout",
     "output_type": "stream",
     "text": [
      "[('AUTOCORR2D_1', <function AUTOCORR2D_1 at 0x7fc5608f9040>), ('AUTOCORR2D_10', <function AUTOCORR2D_10 at 0x7fc560853040>), ('AUTOCORR2D_100', <function AUTOCORR2D_100 at 0x7fc56085d3a0>), ('AUTOCORR2D_101', <function AUTOCORR2D_101 at 0x7fc56085d430>), ('AUTOCORR2D_102', <function AUTOCORR2D_102 at 0x7fc56085d4c0>), ('AUTOCORR2D_103', <function AUTOCORR2D_103 at 0x7fc56085d550>), ('AUTOCORR2D_104', <function AUTOCORR2D_104 at 0x7fc56085d5e0>), ('AUTOCORR2D_105', <function AUTOCORR2D_105 at 0x7fc56085d670>), ('AUTOCORR2D_106', <function AUTOCORR2D_106 at 0x7fc56085d700>), ('AUTOCORR2D_107', <function AUTOCORR2D_107 at 0x7fc56085d790>), ('AUTOCORR2D_108', <function AUTOCORR2D_108 at 0x7fc56085d820>), ('AUTOCORR2D_109', <function AUTOCORR2D_109 at 0x7fc56085d8b0>), ('AUTOCORR2D_11', <function AUTOCORR2D_11 at 0x7fc5608530d0>), ('AUTOCORR2D_110', <function AUTOCORR2D_110 at 0x7fc56085d940>), ('AUTOCORR2D_111', <function AUTOCORR2D_111 at 0x7fc56085d9d0>), ('AUTOCORR2D_112', <function AUTOCORR2D_112 at 0x7fc56085da60>), ('AUTOCORR2D_113', <function AUTOCORR2D_113 at 0x7fc56085daf0>), ('AUTOCORR2D_114', <function AUTOCORR2D_114 at 0x7fc56085db80>), ('AUTOCORR2D_115', <function AUTOCORR2D_115 at 0x7fc56085dc10>), ('AUTOCORR2D_116', <function AUTOCORR2D_116 at 0x7fc56085dca0>), ('AUTOCORR2D_117', <function AUTOCORR2D_117 at 0x7fc56085dd30>), ('AUTOCORR2D_118', <function AUTOCORR2D_118 at 0x7fc56085ddc0>), ('AUTOCORR2D_119', <function AUTOCORR2D_119 at 0x7fc56085de50>), ('AUTOCORR2D_12', <function AUTOCORR2D_12 at 0x7fc560853160>), ('AUTOCORR2D_120', <function AUTOCORR2D_120 at 0x7fc56085dee0>), ('AUTOCORR2D_121', <function AUTOCORR2D_121 at 0x7fc56085df70>), ('AUTOCORR2D_122', <function AUTOCORR2D_122 at 0x7fc560861040>), ('AUTOCORR2D_123', <function AUTOCORR2D_123 at 0x7fc5608610d0>), ('AUTOCORR2D_124', <function AUTOCORR2D_124 at 0x7fc560861160>), ('AUTOCORR2D_125', <function AUTOCORR2D_125 at 0x7fc5608611f0>), ('AUTOCORR2D_126', <function AUTOCORR2D_126 at 0x7fc560861280>), ('AUTOCORR2D_127', <function AUTOCORR2D_127 at 0x7fc560861310>), ('AUTOCORR2D_128', <function AUTOCORR2D_128 at 0x7fc5608613a0>), ('AUTOCORR2D_129', <function AUTOCORR2D_129 at 0x7fc560861430>), ('AUTOCORR2D_13', <function AUTOCORR2D_13 at 0x7fc5608531f0>), ('AUTOCORR2D_130', <function AUTOCORR2D_130 at 0x7fc5608614c0>), ('AUTOCORR2D_131', <function AUTOCORR2D_131 at 0x7fc560861550>), ('AUTOCORR2D_132', <function AUTOCORR2D_132 at 0x7fc5608615e0>), ('AUTOCORR2D_133', <function AUTOCORR2D_133 at 0x7fc560861670>), ('AUTOCORR2D_134', <function AUTOCORR2D_134 at 0x7fc560861700>), ('AUTOCORR2D_135', <function AUTOCORR2D_135 at 0x7fc560861790>), ('AUTOCORR2D_136', <function AUTOCORR2D_136 at 0x7fc560861820>), ('AUTOCORR2D_137', <function AUTOCORR2D_137 at 0x7fc5608618b0>), ('AUTOCORR2D_138', <function AUTOCORR2D_138 at 0x7fc560861940>), ('AUTOCORR2D_139', <function AUTOCORR2D_139 at 0x7fc5608619d0>), ('AUTOCORR2D_14', <function AUTOCORR2D_14 at 0x7fc560853280>), ('AUTOCORR2D_140', <function AUTOCORR2D_140 at 0x7fc560861a60>), ('AUTOCORR2D_141', <function AUTOCORR2D_141 at 0x7fc560861af0>), ('AUTOCORR2D_142', <function AUTOCORR2D_142 at 0x7fc560861b80>), ('AUTOCORR2D_143', <function AUTOCORR2D_143 at 0x7fc560861c10>), ('AUTOCORR2D_144', <function AUTOCORR2D_144 at 0x7fc560861ca0>), ('AUTOCORR2D_145', <function AUTOCORR2D_145 at 0x7fc560861d30>), ('AUTOCORR2D_146', <function AUTOCORR2D_146 at 0x7fc560861dc0>), ('AUTOCORR2D_147', <function AUTOCORR2D_147 at 0x7fc560861e50>), ('AUTOCORR2D_148', <function AUTOCORR2D_148 at 0x7fc560861ee0>), ('AUTOCORR2D_149', <function AUTOCORR2D_149 at 0x7fc560861f70>), ('AUTOCORR2D_15', <function AUTOCORR2D_15 at 0x7fc560853310>), ('AUTOCORR2D_150', <function AUTOCORR2D_150 at 0x7fc560863040>), ('AUTOCORR2D_151', <function AUTOCORR2D_151 at 0x7fc5608630d0>), ('AUTOCORR2D_152', <function AUTOCORR2D_152 at 0x7fc560863160>), ('AUTOCORR2D_153', <function AUTOCORR2D_153 at 0x7fc5608631f0>), ('AUTOCORR2D_154', <function AUTOCORR2D_154 at 0x7fc560863280>), ('AUTOCORR2D_155', <function AUTOCORR2D_155 at 0x7fc560863310>), ('AUTOCORR2D_156', <function AUTOCORR2D_156 at 0x7fc5608633a0>), ('AUTOCORR2D_157', <function AUTOCORR2D_157 at 0x7fc560863430>), ('AUTOCORR2D_158', <function AUTOCORR2D_158 at 0x7fc5608634c0>), ('AUTOCORR2D_159', <function AUTOCORR2D_159 at 0x7fc560863550>), ('AUTOCORR2D_16', <function AUTOCORR2D_16 at 0x7fc5608533a0>), ('AUTOCORR2D_160', <function AUTOCORR2D_160 at 0x7fc5608635e0>), ('AUTOCORR2D_161', <function AUTOCORR2D_161 at 0x7fc560863670>), ('AUTOCORR2D_162', <function AUTOCORR2D_162 at 0x7fc560863700>), ('AUTOCORR2D_163', <function AUTOCORR2D_163 at 0x7fc560863790>), ('AUTOCORR2D_164', <function AUTOCORR2D_164 at 0x7fc560863820>), ('AUTOCORR2D_165', <function AUTOCORR2D_165 at 0x7fc5608638b0>), ('AUTOCORR2D_166', <function AUTOCORR2D_166 at 0x7fc560863940>), ('AUTOCORR2D_167', <function AUTOCORR2D_167 at 0x7fc5608639d0>), ('AUTOCORR2D_168', <function AUTOCORR2D_168 at 0x7fc560863a60>), ('AUTOCORR2D_169', <function AUTOCORR2D_169 at 0x7fc560863af0>), ('AUTOCORR2D_17', <function AUTOCORR2D_17 at 0x7fc560853430>), ('AUTOCORR2D_170', <function AUTOCORR2D_170 at 0x7fc560863b80>), ('AUTOCORR2D_171', <function AUTOCORR2D_171 at 0x7fc560863c10>), ('AUTOCORR2D_172', <function AUTOCORR2D_172 at 0x7fc560863ca0>), ('AUTOCORR2D_173', <function AUTOCORR2D_173 at 0x7fc560863d30>), ('AUTOCORR2D_174', <function AUTOCORR2D_174 at 0x7fc560863dc0>), ('AUTOCORR2D_175', <function AUTOCORR2D_175 at 0x7fc560863e50>), ('AUTOCORR2D_176', <function AUTOCORR2D_176 at 0x7fc560863ee0>), ('AUTOCORR2D_177', <function AUTOCORR2D_177 at 0x7fc560863f70>), ('AUTOCORR2D_178', <function AUTOCORR2D_178 at 0x7fc560867040>), ('AUTOCORR2D_179', <function AUTOCORR2D_179 at 0x7fc5608670d0>), ('AUTOCORR2D_18', <function AUTOCORR2D_18 at 0x7fc5608534c0>), ('AUTOCORR2D_180', <function AUTOCORR2D_180 at 0x7fc560867160>), ('AUTOCORR2D_181', <function AUTOCORR2D_181 at 0x7fc5608671f0>), ('AUTOCORR2D_182', <function AUTOCORR2D_182 at 0x7fc560867280>), ('AUTOCORR2D_183', <function AUTOCORR2D_183 at 0x7fc560867310>), ('AUTOCORR2D_184', <function AUTOCORR2D_184 at 0x7fc5608673a0>), ('AUTOCORR2D_185', <function AUTOCORR2D_185 at 0x7fc560867430>), ('AUTOCORR2D_186', <function AUTOCORR2D_186 at 0x7fc5608674c0>), ('AUTOCORR2D_187', <function AUTOCORR2D_187 at 0x7fc560867550>), ('AUTOCORR2D_188', <function AUTOCORR2D_188 at 0x7fc5608675e0>), ('AUTOCORR2D_189', <function AUTOCORR2D_189 at 0x7fc560867670>), ('AUTOCORR2D_19', <function AUTOCORR2D_19 at 0x7fc560853550>), ('AUTOCORR2D_190', <function AUTOCORR2D_190 at 0x7fc560867700>), ('AUTOCORR2D_191', <function AUTOCORR2D_191 at 0x7fc560867790>), ('AUTOCORR2D_192', <function AUTOCORR2D_192 at 0x7fc560867820>), ('AUTOCORR2D_2', <function AUTOCORR2D_2 at 0x7fc560849b80>), ('AUTOCORR2D_20', <function AUTOCORR2D_20 at 0x7fc5608535e0>), ('AUTOCORR2D_21', <function AUTOCORR2D_21 at 0x7fc560853670>), ('AUTOCORR2D_22', <function AUTOCORR2D_22 at 0x7fc560853700>), ('AUTOCORR2D_23', <function AUTOCORR2D_23 at 0x7fc560853790>), ('AUTOCORR2D_24', <function AUTOCORR2D_24 at 0x7fc560853820>), ('AUTOCORR2D_25', <function AUTOCORR2D_25 at 0x7fc5608538b0>), ('AUTOCORR2D_26', <function AUTOCORR2D_26 at 0x7fc560853940>), ('AUTOCORR2D_27', <function AUTOCORR2D_27 at 0x7fc5608539d0>), ('AUTOCORR2D_28', <function AUTOCORR2D_28 at 0x7fc560853a60>), ('AUTOCORR2D_29', <function AUTOCORR2D_29 at 0x7fc560853af0>), ('AUTOCORR2D_3', <function AUTOCORR2D_3 at 0x7fc560849c10>), ('AUTOCORR2D_30', <function AUTOCORR2D_30 at 0x7fc560853b80>), ('AUTOCORR2D_31', <function AUTOCORR2D_31 at 0x7fc560853c10>), ('AUTOCORR2D_32', <function AUTOCORR2D_32 at 0x7fc560853ca0>), ('AUTOCORR2D_33', <function AUTOCORR2D_33 at 0x7fc560853d30>), ('AUTOCORR2D_34', <function AUTOCORR2D_34 at 0x7fc560853dc0>), ('AUTOCORR2D_35', <function AUTOCORR2D_35 at 0x7fc560853e50>), ('AUTOCORR2D_36', <function AUTOCORR2D_36 at 0x7fc560853ee0>), ('AUTOCORR2D_37', <function AUTOCORR2D_37 at 0x7fc560853f70>), ('AUTOCORR2D_38', <function AUTOCORR2D_38 at 0x7fc560856040>), ('AUTOCORR2D_39', <function AUTOCORR2D_39 at 0x7fc5608560d0>), ('AUTOCORR2D_4', <function AUTOCORR2D_4 at 0x7fc560849ca0>), ('AUTOCORR2D_40', <function AUTOCORR2D_40 at 0x7fc560856160>), ('AUTOCORR2D_41', <function AUTOCORR2D_41 at 0x7fc5608561f0>), ('AUTOCORR2D_42', <function AUTOCORR2D_42 at 0x7fc560856280>), ('AUTOCORR2D_43', <function AUTOCORR2D_43 at 0x7fc560856310>), ('AUTOCORR2D_44', <function AUTOCORR2D_44 at 0x7fc5608563a0>), ('AUTOCORR2D_45', <function AUTOCORR2D_45 at 0x7fc560856430>), ('AUTOCORR2D_46', <function AUTOCORR2D_46 at 0x7fc5608564c0>), ('AUTOCORR2D_47', <function AUTOCORR2D_47 at 0x7fc560856550>), ('AUTOCORR2D_48', <function AUTOCORR2D_48 at 0x7fc5608565e0>), ('AUTOCORR2D_49', <function AUTOCORR2D_49 at 0x7fc560856670>), ('AUTOCORR2D_5', <function AUTOCORR2D_5 at 0x7fc560849d30>), ('AUTOCORR2D_50', <function AUTOCORR2D_50 at 0x7fc560856700>), ('AUTOCORR2D_51', <function AUTOCORR2D_51 at 0x7fc560856790>), ('AUTOCORR2D_52', <function AUTOCORR2D_52 at 0x7fc560856820>), ('AUTOCORR2D_53', <function AUTOCORR2D_53 at 0x7fc5608568b0>), ('AUTOCORR2D_54', <function AUTOCORR2D_54 at 0x7fc560856940>), ('AUTOCORR2D_55', <function AUTOCORR2D_55 at 0x7fc5608569d0>), ('AUTOCORR2D_56', <function AUTOCORR2D_56 at 0x7fc560856a60>), ('AUTOCORR2D_57', <function AUTOCORR2D_57 at 0x7fc560856af0>), ('AUTOCORR2D_58', <function AUTOCORR2D_58 at 0x7fc560856b80>), ('AUTOCORR2D_59', <function AUTOCORR2D_59 at 0x7fc560856c10>), ('AUTOCORR2D_6', <function AUTOCORR2D_6 at 0x7fc560849dc0>), ('AUTOCORR2D_60', <function AUTOCORR2D_60 at 0x7fc560856ca0>), ('AUTOCORR2D_61', <function AUTOCORR2D_61 at 0x7fc560856d30>), ('AUTOCORR2D_62', <function AUTOCORR2D_62 at 0x7fc560856dc0>), ('AUTOCORR2D_63', <function AUTOCORR2D_63 at 0x7fc560856e50>), ('AUTOCORR2D_64', <function AUTOCORR2D_64 at 0x7fc560856ee0>), ('AUTOCORR2D_65', <function AUTOCORR2D_65 at 0x7fc560856f70>), ('AUTOCORR2D_66', <function AUTOCORR2D_66 at 0x7fc56085a040>), ('AUTOCORR2D_67', <function AUTOCORR2D_67 at 0x7fc56085a0d0>), ('AUTOCORR2D_68', <function AUTOCORR2D_68 at 0x7fc56085a160>), ('AUTOCORR2D_69', <function AUTOCORR2D_69 at 0x7fc56085a1f0>), ('AUTOCORR2D_7', <function AUTOCORR2D_7 at 0x7fc560849e50>), ('AUTOCORR2D_70', <function AUTOCORR2D_70 at 0x7fc56085a280>), ('AUTOCORR2D_71', <function AUTOCORR2D_71 at 0x7fc56085a310>), ('AUTOCORR2D_72', <function AUTOCORR2D_72 at 0x7fc56085a3a0>), ('AUTOCORR2D_73', <function AUTOCORR2D_73 at 0x7fc56085a430>), ('AUTOCORR2D_74', <function AUTOCORR2D_74 at 0x7fc56085a4c0>), ('AUTOCORR2D_75', <function AUTOCORR2D_75 at 0x7fc56085a550>), ('AUTOCORR2D_76', <function AUTOCORR2D_76 at 0x7fc56085a5e0>), ('AUTOCORR2D_77', <function AUTOCORR2D_77 at 0x7fc56085a670>), ('AUTOCORR2D_78', <function AUTOCORR2D_78 at 0x7fc56085a700>), ('AUTOCORR2D_79', <function AUTOCORR2D_79 at 0x7fc56085a790>), ('AUTOCORR2D_8', <function AUTOCORR2D_8 at 0x7fc560849ee0>), ('AUTOCORR2D_80', <function AUTOCORR2D_80 at 0x7fc56085a820>), ('AUTOCORR2D_81', <function AUTOCORR2D_81 at 0x7fc56085a8b0>), ('AUTOCORR2D_82', <function AUTOCORR2D_82 at 0x7fc56085a940>), ('AUTOCORR2D_83', <function AUTOCORR2D_83 at 0x7fc56085a9d0>), ('AUTOCORR2D_84', <function AUTOCORR2D_84 at 0x7fc56085aa60>), ('AUTOCORR2D_85', <function AUTOCORR2D_85 at 0x7fc56085aaf0>), ('AUTOCORR2D_86', <function AUTOCORR2D_86 at 0x7fc56085ab80>), ('AUTOCORR2D_87', <function AUTOCORR2D_87 at 0x7fc56085ac10>), ('AUTOCORR2D_88', <function AUTOCORR2D_88 at 0x7fc56085aca0>), ('AUTOCORR2D_89', <function AUTOCORR2D_89 at 0x7fc56085ad30>), ('AUTOCORR2D_9', <function AUTOCORR2D_9 at 0x7fc560849f70>), ('AUTOCORR2D_90', <function AUTOCORR2D_90 at 0x7fc56085adc0>), ('AUTOCORR2D_91', <function AUTOCORR2D_91 at 0x7fc56085ae50>), ('AUTOCORR2D_92', <function AUTOCORR2D_92 at 0x7fc56085aee0>), ('AUTOCORR2D_93', <function AUTOCORR2D_93 at 0x7fc56085af70>), ('AUTOCORR2D_94', <function AUTOCORR2D_94 at 0x7fc56085d040>), ('AUTOCORR2D_95', <function AUTOCORR2D_95 at 0x7fc56085d0d0>), ('AUTOCORR2D_96', <function AUTOCORR2D_96 at 0x7fc56085d160>), ('AUTOCORR2D_97', <function AUTOCORR2D_97 at 0x7fc56085d1f0>), ('AUTOCORR2D_98', <function AUTOCORR2D_98 at 0x7fc56085d280>), ('AUTOCORR2D_99', <function AUTOCORR2D_99 at 0x7fc56085d310>), ('BCUT2D_CHGHI', <function BCUT2D_CHGHI at 0x7fc5608f6ca0>), ('BCUT2D_CHGLO', <function BCUT2D_CHGLO at 0x7fc5608f6d30>), ('BCUT2D_LOGPHI', <function BCUT2D_LOGPHI at 0x7fc5608f6dc0>), ('BCUT2D_LOGPLOW', <function BCUT2D_LOGPLOW at 0x7fc5608f6e50>), ('BCUT2D_MRHI', <function BCUT2D_MRHI at 0x7fc5608f6ee0>), ('BCUT2D_MRLOW', <function BCUT2D_MRLOW at 0x7fc5608f6f70>), ('BCUT2D_MWHI', <function BCUT2D_MWHI at 0x7fc5608f6b80>), ('BCUT2D_MWLOW', <function BCUT2D_MWLOW at 0x7fc5608f6c10>), ('BalabanJ', <function BalabanJ at 0x7fc560913040>), ('BertzCT', <function BertzCT at 0x7fc560913310>), ('Chi0', <function Chi0 at 0x7fc560911040>), ('Chi0n', <function <lambda> at 0x7fc560911ca0>), ('Chi0v', <function <lambda> at 0x7fc560911940>), ('Chi1', <function Chi1 at 0x7fc5609110d0>), ('Chi1n', <function <lambda> at 0x7fc560911d30>), ('Chi1v', <function <lambda> at 0x7fc5609119d0>), ('Chi2n', <function <lambda> at 0x7fc560911dc0>), ('Chi2v', <function <lambda> at 0x7fc560911a60>), ('Chi3n', <function <lambda> at 0x7fc560911e50>), ('Chi3v', <function <lambda> at 0x7fc560911af0>), ('Chi4n', <function <lambda> at 0x7fc560911ee0>), ('Chi4v', <function <lambda> at 0x7fc560911b80>), ('EState_VSA1', <function EState_VSA1 at 0x7fc560849550>), ('EState_VSA10', <function EState_VSA10 at 0x7fc560849a60>), ('EState_VSA11', <function EState_VSA11 at 0x7fc560849af0>), ('EState_VSA2', <function EState_VSA2 at 0x7fc5608495e0>), ('EState_VSA3', <function EState_VSA3 at 0x7fc560849670>), ('EState_VSA4', <function EState_VSA4 at 0x7fc560849700>), ('EState_VSA5', <function EState_VSA5 at 0x7fc560849790>), ('EState_VSA6', <function EState_VSA6 at 0x7fc560849820>), ('EState_VSA7', <function EState_VSA7 at 0x7fc5608498b0>), ('EState_VSA8', <function EState_VSA8 at 0x7fc560849940>), ('EState_VSA9', <function EState_VSA9 at 0x7fc5608499d0>), ('ExactMolWt', <function <lambda> at 0x7fc5608f64c0>), ('FpDensityMorgan1', <function FpDensityMorgan1 at 0x7fc5608f69d0>), ('FpDensityMorgan2', <function FpDensityMorgan2 at 0x7fc5608f6a60>), ('FpDensityMorgan3', <function FpDensityMorgan3 at 0x7fc5608f6af0>), ('FractionCSP3', <function <lambda> at 0x7fc560913af0>), ('HallKierAlpha', <function <lambda> at 0x7fc5608f9dc0>), ('HeavyAtomCount', <function HeavyAtomCount at 0x7fc560913a60>), ('HeavyAtomMolWt', <function HeavyAtomMolWt at 0x7fc5608f6430>), ('Ipc', <function Ipc at 0x7fc5608f9b80>), ('Kappa1', <function <lambda> at 0x7fc5608f9e50>), ('Kappa2', <function <lambda> at 0x7fc5608f9ee0>), ('Kappa3', <function <lambda> at 0x7fc5608f9f70>), ('LabuteASA', <function <lambda> at 0x7fc5608f2550>), ('MaxAbsEStateIndex', <function MaxAbsEStateIndex at 0x7fc56095e0d0>), ('MaxAbsPartialCharge', <function MaxAbsPartialCharge at 0x7fc5608f6820>), ('MaxEStateIndex', <function MaxEStateIndex at 0x7fc56093df70>), ('MaxPartialCharge', <function MaxPartialCharge at 0x7fc5608f6700>), ('MinAbsEStateIndex', <function MinAbsEStateIndex at 0x7fc56095e160>), ('MinAbsPartialCharge', <function MinAbsPartialCharge at 0x7fc5608f68b0>), ('MinEStateIndex', <function MinEStateIndex at 0x7fc56095e040>), ('MinPartialCharge', <function MinPartialCharge at 0x7fc5608f6790>), ('MolLogP', <function <lambda> at 0x7fc56095ec10>), ('MolMR', <function <lambda> at 0x7fc56095eca0>), ('MolWt', <function <lambda> at 0x7fc5608f63a0>), ('NHOHCount', <function <lambda> at 0x7fc560913940>), ('NOCount', <function <lambda> at 0x7fc5609138b0>), ('NumAliphaticCarbocycles', <function <lambda> at 0x7fc560918040>), ('NumAliphaticHeterocycles', <function <lambda> at 0x7fc560913f70>), ('NumAliphaticRings', <function <lambda> at 0x7fc560913ee0>), ('NumAromaticCarbocycles', <function <lambda> at 0x7fc560913d30>), ('NumAromaticHeterocycles', <function <lambda> at 0x7fc560913ca0>), ('NumAromaticRings', <function <lambda> at 0x7fc560913b80>), ('NumHAcceptors', <function <lambda> at 0x7fc560913550>), ('NumHDonors', <function <lambda> at 0x7fc560913430>), ('NumHeteroatoms', <function <lambda> at 0x7fc560913670>), ('NumRadicalElectrons', <function NumRadicalElectrons at 0x7fc5608f65e0>), ('NumRotatableBonds', <function <lambda> at 0x7fc560913790>), ('NumSaturatedCarbocycles', <function <lambda> at 0x7fc560913e50>), ('NumSaturatedHeterocycles', <function <lambda> at 0x7fc560913dc0>), ('NumSaturatedRings', <function <lambda> at 0x7fc560913c10>), ('NumValenceElectrons', <function NumValenceElectrons at 0x7fc5608f6550>), ('PEOE_VSA1', <function _InstallDescriptors.<locals>.<lambda> at 0x7fc5608ecca0>), ('PEOE_VSA10', <function _InstallDescriptors.<locals>.<lambda> at 0x7fc5608f21f0>), ('PEOE_VSA11', <function _InstallDescriptors.<locals>.<lambda> at 0x7fc5608f2280>), ('PEOE_VSA12', <function _InstallDescriptors.<locals>.<lambda> at 0x7fc5608f2310>), ('PEOE_VSA13', <function _InstallDescriptors.<locals>.<lambda> at 0x7fc5608f23a0>), ('PEOE_VSA14', <function _InstallDescriptors.<locals>.<lambda> at 0x7fc5608f2430>), ('PEOE_VSA2', <function _InstallDescriptors.<locals>.<lambda> at 0x7fc5608ecd30>), ('PEOE_VSA3', <function _InstallDescriptors.<locals>.<lambda> at 0x7fc5608ecdc0>), ('PEOE_VSA4', <function _InstallDescriptors.<locals>.<lambda> at 0x7fc5608ece50>), ('PEOE_VSA5', <function _InstallDescriptors.<locals>.<lambda> at 0x7fc5608ecee0>), ('PEOE_VSA6', <function _InstallDescriptors.<locals>.<lambda> at 0x7fc5608ecf70>), ('PEOE_VSA7', <function _InstallDescriptors.<locals>.<lambda> at 0x7fc5608f2040>), ('PEOE_VSA8', <function _InstallDescriptors.<locals>.<lambda> at 0x7fc5608f20d0>), ('PEOE_VSA9', <function _InstallDescriptors.<locals>.<lambda> at 0x7fc5608f2160>), ('RingCount', <function <lambda> at 0x7fc5609139d0>), ('SMR_VSA1', <function _InstallDescriptors.<locals>.<lambda> at 0x7fc5608ec040>), ('SMR_VSA10', <function _InstallDescriptors.<locals>.<lambda> at 0x7fc5608ec550>), ('SMR_VSA2', <function _InstallDescriptors.<locals>.<lambda> at 0x7fc5608ec0d0>), ('SMR_VSA3', <function _InstallDescriptors.<locals>.<lambda> at 0x7fc5608ec160>), ('SMR_VSA4', <function _InstallDescriptors.<locals>.<lambda> at 0x7fc5608ec1f0>), ('SMR_VSA5', <function _InstallDescriptors.<locals>.<lambda> at 0x7fc5608ec280>), ('SMR_VSA6', <function _InstallDescriptors.<locals>.<lambda> at 0x7fc5608ec310>), ('SMR_VSA7', <function _InstallDescriptors.<locals>.<lambda> at 0x7fc5608ec3a0>), ('SMR_VSA8', <function _InstallDescriptors.<locals>.<lambda> at 0x7fc5608ec430>), ('SMR_VSA9', <function _InstallDescriptors.<locals>.<lambda> at 0x7fc5608ec4c0>), ('SlogP_VSA1', <function _InstallDescriptors.<locals>.<lambda> at 0x7fc5608ec5e0>), ('SlogP_VSA10', <function _InstallDescriptors.<locals>.<lambda> at 0x7fc5608ecaf0>), ('SlogP_VSA11', <function _InstallDescriptors.<locals>.<lambda> at 0x7fc5608ecb80>), ('SlogP_VSA12', <function _InstallDescriptors.<locals>.<lambda> at 0x7fc5608ecc10>), ('SlogP_VSA2', <function _InstallDescriptors.<locals>.<lambda> at 0x7fc5608ec670>), ('SlogP_VSA3', <function _InstallDescriptors.<locals>.<lambda> at 0x7fc5608ec700>), ('SlogP_VSA4', <function _InstallDescriptors.<locals>.<lambda> at 0x7fc5608ec790>), ('SlogP_VSA5', <function _InstallDescriptors.<locals>.<lambda> at 0x7fc5608ec820>), ('SlogP_VSA6', <function _InstallDescriptors.<locals>.<lambda> at 0x7fc5608ec8b0>), ('SlogP_VSA7', <function _InstallDescriptors.<locals>.<lambda> at 0x7fc5608ec940>), ('SlogP_VSA8', <function _InstallDescriptors.<locals>.<lambda> at 0x7fc5608ec9d0>), ('SlogP_VSA9', <function _InstallDescriptors.<locals>.<lambda> at 0x7fc5608eca60>), ('TPSA', <function <lambda> at 0x7fc5608f2700>), ('VSA_EState1', <function _descriptor_VSA_EState.<locals>.VSA_EState_bin at 0x7fc560843f70>), ('VSA_EState10', <function _descriptor_VSA_EState.<locals>.VSA_EState_bin at 0x7fc5608494c0>), ('VSA_EState2', <function _descriptor_VSA_EState.<locals>.VSA_EState_bin at 0x7fc560849040>), ('VSA_EState3', <function _descriptor_VSA_EState.<locals>.VSA_EState_bin at 0x7fc5608490d0>), ('VSA_EState4', <function _descriptor_VSA_EState.<locals>.VSA_EState_bin at 0x7fc560849160>), ('VSA_EState5', <function _descriptor_VSA_EState.<locals>.VSA_EState_bin at 0x7fc5608491f0>), ('VSA_EState6', <function _descriptor_VSA_EState.<locals>.VSA_EState_bin at 0x7fc560849280>), ('VSA_EState7', <function _descriptor_VSA_EState.<locals>.VSA_EState_bin at 0x7fc560849310>), ('VSA_EState8', <function _descriptor_VSA_EState.<locals>.VSA_EState_bin at 0x7fc5608493a0>), ('VSA_EState9', <function _descriptor_VSA_EState.<locals>.VSA_EState_bin at 0x7fc560849430>), ('_ChargeDescriptors', <function _ChargeDescriptors at 0x7fc5608f6670>), ('_FingerprintDensity', <function _FingerprintDensity at 0x7fc5608f6940>), ('_isCallable', <function _isCallable at 0x7fc56a3a6820>), ('_runDoctests', <function _runDoctests at 0x7fc560867940>), ('_setupDescriptors', <function _setupDescriptors at 0x7fc5608f6310>), ('fr_Al_COO', <function _LoadPatterns.<locals>.<lambda> at 0x7fc560918d30>), ('fr_Al_OH', <function _LoadPatterns.<locals>.<lambda> at 0x7fc560918a60>), ('fr_Al_OH_noTert', <function _LoadPatterns.<locals>.<lambda> at 0x7fc5608434c0>), ('fr_ArN', <function _LoadPatterns.<locals>.<lambda> at 0x7fc5608439d0>), ('fr_Ar_COO', <function _LoadPatterns.<locals>.<lambda> at 0x7fc560918dc0>), ('fr_Ar_N', <function _LoadPatterns.<locals>.<lambda> at 0x7fc56091f430>), ('fr_Ar_NH', <function _LoadPatterns.<locals>.<lambda> at 0x7fc56091f4c0>), ('fr_Ar_OH', <function _LoadPatterns.<locals>.<lambda> at 0x7fc560918af0>), ('fr_COO', <function _LoadPatterns.<locals>.<lambda> at 0x7fc560918e50>), ('fr_COO2', <function _LoadPatterns.<locals>.<lambda> at 0x7fc560918ee0>), ('fr_C_O', <function _LoadPatterns.<locals>.<lambda> at 0x7fc560918940>), ('fr_C_O_noCOO', <function _LoadPatterns.<locals>.<lambda> at 0x7fc5609189d0>), ('fr_C_S', <function _LoadPatterns.<locals>.<lambda> at 0x7fc560923310>), ('fr_HOCCN', <function _LoadPatterns.<locals>.<lambda> at 0x7fc560843a60>), ('fr_Imine', <function _LoadPatterns.<locals>.<lambda> at 0x7fc56091f5e0>), ('fr_NH0', <function _LoadPatterns.<locals>.<lambda> at 0x7fc56091f3a0>), ('fr_NH1', <function _LoadPatterns.<locals>.<lambda> at 0x7fc56091f310>), ('fr_NH2', <function _LoadPatterns.<locals>.<lambda> at 0x7fc56091f280>), ('fr_N_O', <function _LoadPatterns.<locals>.<lambda> at 0x7fc56091f8b0>), ('fr_Ndealkylation1', <function _LoadPatterns.<locals>.<lambda> at 0x7fc560843790>), ('fr_Ndealkylation2', <function _LoadPatterns.<locals>.<lambda> at 0x7fc560843820>), ('fr_Nhpyrrole', <function _LoadPatterns.<locals>.<lambda> at 0x7fc56091fdc0>), ('fr_SH', <function _LoadPatterns.<locals>.<lambda> at 0x7fc560923280>), ('fr_aldehyde', <function _LoadPatterns.<locals>.<lambda> at 0x7fc56091f160>), ('fr_alkyl_carbamate', <function _LoadPatterns.<locals>.<lambda> at 0x7fc5608438b0>), ('fr_alkyl_halide', <function _LoadPatterns.<locals>.<lambda> at 0x7fc560923160>), ('fr_allylic_oxid', <function _LoadPatterns.<locals>.<lambda> at 0x7fc560843700>), ('fr_amide', <function _LoadPatterns.<locals>.<lambda> at 0x7fc56091fb80>), ('fr_amidine', <function _LoadPatterns.<locals>.<lambda> at 0x7fc56091fca0>), ('fr_aniline', <function _LoadPatterns.<locals>.<lambda> at 0x7fc56091f550>), ('fr_aryl_methyl', <function _LoadPatterns.<locals>.<lambda> at 0x7fc560843670>), ('fr_azide', <function _LoadPatterns.<locals>.<lambda> at 0x7fc56091faf0>), ('fr_azo', <function _LoadPatterns.<locals>.<lambda> at 0x7fc56091f9d0>), ('fr_barbitur', <function _LoadPatterns.<locals>.<lambda> at 0x7fc5609235e0>), ('fr_benzene', <function _LoadPatterns.<locals>.<lambda> at 0x7fc5608430d0>), ('fr_benzodiazepine', <function _LoadPatterns.<locals>.<lambda> at 0x7fc560843550>), ('fr_bicyclic', <function _LoadPatterns.<locals>.<lambda> at 0x7fc560923ee0>), ('fr_diazo', <function _LoadPatterns.<locals>.<lambda> at 0x7fc56091fa60>), ('fr_dihydropyridine', <function _LoadPatterns.<locals>.<lambda> at 0x7fc560843430>), ('fr_epoxide', <function _LoadPatterns.<locals>.<lambda> at 0x7fc560923e50>), ('fr_ester', <function _LoadPatterns.<locals>.<lambda> at 0x7fc560918ca0>), ('fr_ether', <function _LoadPatterns.<locals>.<lambda> at 0x7fc56091f040>), ('fr_furan', <function _LoadPatterns.<locals>.<lambda> at 0x7fc560923820>), ('fr_guanido', <function _LoadPatterns.<locals>.<lambda> at 0x7fc56091fd30>), ('fr_halogen', <function _LoadPatterns.<locals>.<lambda> at 0x7fc5609230d0>), ('fr_hdrzine', <function _LoadPatterns.<locals>.<lambda> at 0x7fc56091f790>), ('fr_hdrzone', <function _LoadPatterns.<locals>.<lambda> at 0x7fc56091f700>), ('fr_imidazole', <function _LoadPatterns.<locals>.<lambda> at 0x7fc560923790>), ('fr_imide', <function _LoadPatterns.<locals>.<lambda> at 0x7fc56091fe50>), ('fr_isocyan', <function _LoadPatterns.<locals>.<lambda> at 0x7fc56091fee0>), ('fr_isothiocyan', <function _LoadPatterns.<locals>.<lambda> at 0x7fc56091ff70>), ('fr_ketone', <function _LoadPatterns.<locals>.<lambda> at 0x7fc560918f70>), ('fr_ketone_Topliss', <function _LoadPatterns.<locals>.<lambda> at 0x7fc560843940>), ('fr_lactam', <function _LoadPatterns.<locals>.<lambda> at 0x7fc560923ca0>), ('fr_lactone', <function _LoadPatterns.<locals>.<lambda> at 0x7fc560923d30>), ('fr_methoxy', <function _LoadPatterns.<locals>.<lambda> at 0x7fc560918b80>), ('fr_morpholine', <function _LoadPatterns.<locals>.<lambda> at 0x7fc560923c10>), ('fr_nitrile', <function _LoadPatterns.<locals>.<lambda> at 0x7fc56091f670>), ('fr_nitro', <function _LoadPatterns.<locals>.<lambda> at 0x7fc56091f940>), ('fr_nitro_arom', <function _LoadPatterns.<locals>.<lambda> at 0x7fc560843280>), ('fr_nitro_arom_nonortho', <function _LoadPatterns.<locals>.<lambda> at 0x7fc560843310>), ('fr_nitroso', <function _LoadPatterns.<locals>.<lambda> at 0x7fc56091f820>), ('fr_oxazole', <function _LoadPatterns.<locals>.<lambda> at 0x7fc5609239d0>), ('fr_oxime', <function _LoadPatterns.<locals>.<lambda> at 0x7fc560918c10>), ('fr_para_hydroxylation', <function _LoadPatterns.<locals>.<lambda> at 0x7fc5608435e0>), ('fr_phenol', <function _LoadPatterns.<locals>.<lambda> at 0x7fc56091f0d0>), ('fr_phenol_noOrthoHbond', <function _LoadPatterns.<locals>.<lambda> at 0x7fc5608433a0>), ('fr_phos_acid', <function _LoadPatterns.<locals>.<lambda> at 0x7fc560843160>), ('fr_phos_ester', <function _LoadPatterns.<locals>.<lambda> at 0x7fc5608431f0>), ('fr_piperdine', <function _LoadPatterns.<locals>.<lambda> at 0x7fc560923af0>), ('fr_piperzine', <function _LoadPatterns.<locals>.<lambda> at 0x7fc560923b80>), ('fr_priamide', <function _LoadPatterns.<locals>.<lambda> at 0x7fc56091fc10>), ('fr_prisulfonamd', <function _LoadPatterns.<locals>.<lambda> at 0x7fc560923550>), ('fr_pyridine', <function _LoadPatterns.<locals>.<lambda> at 0x7fc560923a60>), ('fr_quatN', <function _LoadPatterns.<locals>.<lambda> at 0x7fc56091f1f0>), ('fr_sulfide', <function _LoadPatterns.<locals>.<lambda> at 0x7fc5609231f0>), ('fr_sulfonamd', <function _LoadPatterns.<locals>.<lambda> at 0x7fc5609234c0>), ('fr_sulfone', <function _LoadPatterns.<locals>.<lambda> at 0x7fc560923430>), ('fr_term_acetylene', <function _LoadPatterns.<locals>.<lambda> at 0x7fc560923700>), ('fr_tetrazole', <function _LoadPatterns.<locals>.<lambda> at 0x7fc560923dc0>), ('fr_thiazole', <function _LoadPatterns.<locals>.<lambda> at 0x7fc560923940>), ('fr_thiocyan', <function _LoadPatterns.<locals>.<lambda> at 0x7fc560923040>), ('fr_thiophene', <function _LoadPatterns.<locals>.<lambda> at 0x7fc5609238b0>), ('fr_unbrch_alkane', <function _LoadPatterns.<locals>.<lambda> at 0x7fc560843040>), ('fr_urea', <function _LoadPatterns.<locals>.<lambda> at 0x7fc560923670>), ('qed', <function qed at 0x7fc5608f6040>), ('setupAUTOCorrDescriptors', <function setupAUTOCorrDescriptors at 0x7fc5608678b0>)]\n"
     ]
    }
   ],
   "source": [
    "from inspect import getmembers, isfunction\n",
    "from rdkit.Chem import Descriptors\n",
    "print(getmembers(Descriptors, isfunction))"
   ]
  },
  {
   "cell_type": "code",
   "execution_count": 10,
   "id": "18367882",
   "metadata": {},
   "outputs": [
    {
     "name": "stdout",
     "output_type": "stream",
     "text": [
      "BCUT2D_CHGHI\n",
      "BCUT2D_CHGLO\n",
      "BCUT2D_LOGPHI\n",
      "BCUT2D_LOGPLOW\n",
      "BCUT2D_MRHI\n",
      "BCUT2D_MRLOW\n",
      "BCUT2D_MWHI\n",
      "BCUT2D_MWLOW\n",
      "BalabanJ\n",
      "BertzCT\n",
      "Chi0\n",
      "Chi0n\n",
      "Chi0v\n",
      "Chi1\n",
      "Chi1n\n",
      "Chi1v\n",
      "Chi2n\n",
      "Chi2v\n",
      "Chi3n\n",
      "Chi3v\n",
      "Chi4n\n",
      "Chi4v\n",
      "EState_VSA1\n",
      "EState_VSA10\n",
      "EState_VSA11\n",
      "EState_VSA2\n",
      "EState_VSA3\n",
      "EState_VSA4\n",
      "EState_VSA5\n",
      "EState_VSA6\n",
      "EState_VSA7\n",
      "EState_VSA8\n",
      "EState_VSA9\n",
      "ExactMolWt\n",
      "FpDensityMorgan1\n",
      "FpDensityMorgan2\n",
      "FpDensityMorgan3\n",
      "FractionCSP3\n",
      "HallKierAlpha\n",
      "HeavyAtomCount\n",
      "HeavyAtomMolWt\n",
      "Ipc\n",
      "Kappa1\n",
      "Kappa2\n",
      "Kappa3\n",
      "LabuteASA\n",
      "MaxAbsEStateIndex\n",
      "MaxAbsPartialCharge\n",
      "MaxEStateIndex\n",
      "MaxPartialCharge\n",
      "MinAbsEStateIndex\n",
      "MinAbsPartialCharge\n",
      "MinEStateIndex\n",
      "MinPartialCharge\n",
      "MolLogP\n",
      "MolMR\n",
      "MolWt\n",
      "NHOHCount\n",
      "NOCount\n",
      "NumAliphaticCarbocycles\n",
      "NumAliphaticHeterocycles\n",
      "NumAliphaticRings\n",
      "NumAromaticCarbocycles\n",
      "NumAromaticHeterocycles\n",
      "NumAromaticRings\n",
      "NumHAcceptors\n",
      "NumHDonors\n",
      "NumHeteroatoms\n",
      "NumRadicalElectrons\n",
      "NumRotatableBonds\n",
      "NumSaturatedCarbocycles\n",
      "NumSaturatedHeterocycles\n",
      "NumSaturatedRings\n",
      "NumValenceElectrons\n",
      "PEOE_VSA1\n",
      "PEOE_VSA10\n",
      "PEOE_VSA11\n",
      "PEOE_VSA12\n",
      "PEOE_VSA13\n",
      "PEOE_VSA14\n",
      "PEOE_VSA2\n",
      "PEOE_VSA3\n",
      "PEOE_VSA4\n",
      "PEOE_VSA5\n",
      "PEOE_VSA6\n",
      "PEOE_VSA7\n",
      "PEOE_VSA8\n",
      "PEOE_VSA9\n",
      "RingCount\n",
      "SMR_VSA1\n",
      "SMR_VSA10\n",
      "SMR_VSA2\n",
      "SMR_VSA3\n",
      "SMR_VSA4\n",
      "SMR_VSA5\n",
      "SMR_VSA6\n",
      "SMR_VSA7\n",
      "SMR_VSA8\n",
      "SMR_VSA9\n",
      "SlogP_VSA1\n",
      "SlogP_VSA10\n",
      "SlogP_VSA11\n",
      "SlogP_VSA12\n",
      "SlogP_VSA2\n",
      "SlogP_VSA3\n",
      "SlogP_VSA4\n",
      "SlogP_VSA5\n",
      "SlogP_VSA6\n",
      "SlogP_VSA7\n",
      "SlogP_VSA8\n",
      "SlogP_VSA9\n",
      "TPSA\n",
      "VSA_EState1\n",
      "VSA_EState10\n",
      "VSA_EState2\n",
      "VSA_EState3\n",
      "VSA_EState4\n",
      "VSA_EState5\n",
      "VSA_EState6\n",
      "VSA_EState7\n",
      "VSA_EState8\n",
      "VSA_EState9\n"
     ]
    }
   ],
   "source": [
    "descriptor_dict = {} \n",
    "for i in getmembers(Descriptors, isfunction) : \n",
    "  if 'AUTOCORR2D' in i[0] : \n",
    "    pass\n",
    "  elif  i[0] == '_ChargeDescriptors' : \n",
    "    break\n",
    "  else : \n",
    "    descriptor_dict[i[0]] = i[1]\n",
    "    print(i[0])"
   ]
  },
  {
   "cell_type": "code",
   "execution_count": 11,
   "id": "31458b47",
   "metadata": {},
   "outputs": [
    {
     "data": {
      "text/plain": [
       "122"
      ]
     },
     "execution_count": 11,
     "metadata": {},
     "output_type": "execute_result"
    }
   ],
   "source": [
    "len(descriptor_dict)"
   ]
  },
  {
   "cell_type": "markdown",
   "id": "d8c0b0e6",
   "metadata": {},
   "source": [
    "- 122개의 descriptor 존재"
   ]
  },
  {
   "cell_type": "markdown",
   "id": "5dce9a3d",
   "metadata": {},
   "source": [
    "- 3D Descriptors"
   ]
  },
  {
   "cell_type": "code",
   "execution_count": 13,
   "id": "7ebd4bd4",
   "metadata": {},
   "outputs": [
    {
     "name": "stdout",
     "output_type": "stream",
     "text": [
      "[('Asphericity', <function <lambda> at 0x7fc560918790>), ('Eccentricity', <function <lambda> at 0x7fc560918700>), ('InertialShapeFactor', <function <lambda> at 0x7fc560918670>), ('NPR1', <function <lambda> at 0x7fc5609184c0>), ('NPR2', <function <lambda> at 0x7fc560918550>), ('PMI1', <function <lambda> at 0x7fc560918310>), ('PMI2', <function <lambda> at 0x7fc5609183a0>), ('PMI3', <function <lambda> at 0x7fc560918430>), ('RadiusOfGyration', <function <lambda> at 0x7fc5609185e0>), ('SpherocityIndex', <function <lambda> at 0x7fc560918820>)]\n"
     ]
    }
   ],
   "source": [
    "from inspect import getmembers, isfunction\n",
    "from rdkit.Chem import Descriptors3D\n",
    "print(getmembers(Descriptors3D, isfunction))"
   ]
  },
  {
   "cell_type": "code",
   "execution_count": 14,
   "id": "fbd5b699",
   "metadata": {},
   "outputs": [],
   "source": [
    "Descriptors3D_dict={}\n",
    "for i in getmembers(Descriptors3D, isfunction) :\n",
    "  Descriptors3D_dict[i[0]]= i[1]"
   ]
  },
  {
   "cell_type": "code",
   "execution_count": 15,
   "id": "379d8360",
   "metadata": {},
   "outputs": [
    {
     "data": {
      "text/plain": [
       "{'Asphericity': <function rdkit.Chem.Descriptors3D.<lambda>(*x, **y)>,\n",
       " 'Eccentricity': <function rdkit.Chem.Descriptors3D.<lambda>(*x, **y)>,\n",
       " 'InertialShapeFactor': <function rdkit.Chem.Descriptors3D.<lambda>(*x, **y)>,\n",
       " 'NPR1': <function rdkit.Chem.Descriptors3D.<lambda>(*x, **y)>,\n",
       " 'NPR2': <function rdkit.Chem.Descriptors3D.<lambda>(*x, **y)>,\n",
       " 'PMI1': <function rdkit.Chem.Descriptors3D.<lambda>(*x, **y)>,\n",
       " 'PMI2': <function rdkit.Chem.Descriptors3D.<lambda>(*x, **y)>,\n",
       " 'PMI3': <function rdkit.Chem.Descriptors3D.<lambda>(*x, **y)>,\n",
       " 'RadiusOfGyration': <function rdkit.Chem.Descriptors3D.<lambda>(*x, **y)>,\n",
       " 'SpherocityIndex': <function rdkit.Chem.Descriptors3D.<lambda>(*x, **y)>}"
      ]
     },
     "execution_count": 15,
     "metadata": {},
     "output_type": "execute_result"
    }
   ],
   "source": [
    "Descriptors3D_dict"
   ]
  },
  {
   "cell_type": "code",
   "execution_count": 16,
   "id": "2af5525e",
   "metadata": {},
   "outputs": [
    {
     "data": {
      "text/plain": [
       "10"
      ]
     },
     "execution_count": 16,
     "metadata": {},
     "output_type": "execute_result"
    }
   ],
   "source": [
    "len(Descriptors3D_dict) "
   ]
  },
  {
   "cell_type": "code",
   "execution_count": 24,
   "id": "df2444ae",
   "metadata": {},
   "outputs": [
    {
     "ename": "RuntimeError",
     "evalue": "Pre-condition Violation\n\tmolecule has no conformers\n\tViolation occurred on line 208 in file Code/GraphMol/Descriptors/PMI.cpp\n\tFailed Expression: mol.getNumConformers() >= 1\n\tRDKIT: 2021.09.2\n\tBOOST: 1_76\n",
     "output_type": "error",
     "traceback": [
      "\u001b[0;31m---------------------------------------------------------------------------\u001b[0m",
      "\u001b[0;31mRuntimeError\u001b[0m                              Traceback (most recent call last)",
      "\u001b[0;32m/tmp/ipykernel_1574982/2063364889.py\u001b[0m in \u001b[0;36m<module>\u001b[0;34m\u001b[0m\n\u001b[1;32m      1\u001b[0m \u001b[0;32mfor\u001b[0m \u001b[0mi\u001b[0m \u001b[0;32min\u001b[0m \u001b[0mDescriptors3D_dict\u001b[0m \u001b[0;34m:\u001b[0m\u001b[0;34m\u001b[0m\u001b[0;34m\u001b[0m\u001b[0m\n\u001b[0;32m----> 2\u001b[0;31m     \u001b[0mprint\u001b[0m\u001b[0;34m(\u001b[0m\u001b[0mDescriptors3D_dict\u001b[0m\u001b[0;34m[\u001b[0m\u001b[0mi\u001b[0m\u001b[0;34m]\u001b[0m\u001b[0;34m(\u001b[0m\u001b[0mm\u001b[0m\u001b[0;34m)\u001b[0m\u001b[0;34m)\u001b[0m\u001b[0;34m\u001b[0m\u001b[0;34m\u001b[0m\u001b[0m\n\u001b[0m",
      "\u001b[0;32m~/.local/lib/python3.8/site-packages/rdkit/Chem/Descriptors3D.py\u001b[0m in \u001b[0;36m<lambda>\u001b[0;34m(*x, **y)\u001b[0m\n\u001b[1;32m    159\u001b[0m     \"\"\"\n\u001b[1;32m    160\u001b[0m \u001b[0;34m\u001b[0m\u001b[0m\n\u001b[0;32m--> 161\u001b[0;31m   \u001b[0mAsphericity\u001b[0m \u001b[0;34m=\u001b[0m \u001b[0;32mlambda\u001b[0m \u001b[0;34m*\u001b[0m\u001b[0mx\u001b[0m\u001b[0;34m,\u001b[0m \u001b[0;34m**\u001b[0m\u001b[0my\u001b[0m\u001b[0;34m:\u001b[0m \u001b[0mrdMolDescriptors\u001b[0m\u001b[0;34m.\u001b[0m\u001b[0mCalcAsphericity\u001b[0m\u001b[0;34m(\u001b[0m\u001b[0;34m*\u001b[0m\u001b[0mx\u001b[0m\u001b[0;34m,\u001b[0m \u001b[0;34m**\u001b[0m\u001b[0my\u001b[0m\u001b[0;34m)\u001b[0m\u001b[0;34m\u001b[0m\u001b[0;34m\u001b[0m\u001b[0m\n\u001b[0m\u001b[1;32m    162\u001b[0m   \u001b[0mAsphericity\u001b[0m\u001b[0;34m.\u001b[0m\u001b[0mversion\u001b[0m \u001b[0;34m=\u001b[0m \u001b[0mrdMolDescriptors\u001b[0m\u001b[0;34m.\u001b[0m\u001b[0m_CalcAsphericity_version\u001b[0m\u001b[0;34m\u001b[0m\u001b[0;34m\u001b[0m\u001b[0m\n\u001b[1;32m    163\u001b[0m   Asphericity.__doc__ = \"\"\" molecular asphericity\n",
      "\u001b[0;31mRuntimeError\u001b[0m: Pre-condition Violation\n\tmolecule has no conformers\n\tViolation occurred on line 208 in file Code/GraphMol/Descriptors/PMI.cpp\n\tFailed Expression: mol.getNumConformers() >= 1\n\tRDKIT: 2021.09.2\n\tBOOST: 1_76\n"
     ]
    }
   ],
   "source": [
    "for i in Descriptors3D_dict : \n",
    "    print(Descriptors3D_dict[i](m))"
   ]
  },
  {
   "cell_type": "markdown",
   "id": "f5338816",
   "metadata": {},
   "source": [
    "#rdkit에서 3d descriptor를 쓰려면 어떻게 해야하지?"
   ]
  },
  {
   "cell_type": "code",
   "execution_count": 23,
   "id": "47199030",
   "metadata": {},
   "outputs": [
    {
     "name": "stdout",
     "output_type": "stream",
     "text": [
      "[('Asphericity', <function <lambda> at 0x7fc560918790>), ('Eccentricity', <function <lambda> at 0x7fc560918700>), ('InertialShapeFactor', <function <lambda> at 0x7fc560918670>), ('NPR1', <function <lambda> at 0x7fc5609184c0>), ('NPR2', <function <lambda> at 0x7fc560918550>), ('PMI1', <function <lambda> at 0x7fc560918310>), ('PMI2', <function <lambda> at 0x7fc5609183a0>), ('PMI3', <function <lambda> at 0x7fc560918430>), ('RadiusOfGyration', <function <lambda> at 0x7fc5609185e0>), ('SpherocityIndex', <function <lambda> at 0x7fc560918820>)]\n"
     ]
    }
   ],
   "source": [
    "from inspect import getmembers, isfunction #https://python.flowdas.com/library/inspect.html\n",
    "from rdkit.Chem import Descriptors3D\n",
    "print(getmembers(Descriptors3D, isfunction))\n",
    "Descriptors3D_dict={}\n",
    "for i in getmembers(Descriptors3D, isfunction) :\n",
    "    Descriptors3D_dict[i[0]]= i[1]"
   ]
  },
  {
   "cell_type": "code",
   "execution_count": 25,
   "id": "69d991ee",
   "metadata": {},
   "outputs": [
    {
     "name": "stdout",
     "output_type": "stream",
     "text": [
      "[('CanonSmiles', <function CanonSmiles at 0x7fc5659a3ee0>), ('FindMolChiralCenters', <function FindMolChiralCenters at 0x7fc5659bd040>), ('InchiToInchiKey', <function InchiToInchiKey at 0x7fc5659a3ca0>), ('MolBlockToInchi', <function MolBlockToInchi at 0x7fc5659a3c10>), ('MolBlockToInchiAndAuxInfo', <function MolBlockToInchiAndAuxInfo at 0x7fc5659a3af0>), ('MolFromInchi', <function MolFromInchi at 0x7fc5659a34c0>), ('MolToInchi', <function MolToInchi at 0x7fc5659a3b80>), ('MolToInchiAndAuxInfo', <function MolToInchiAndAuxInfo at 0x7fc5659a35e0>), ('MolToInchiKey', <function MolToInchiKey at 0x7fc5659a3d30>), ('QuickSmartsMatch', <function QuickSmartsMatch at 0x7fc569f8d790>), ('SupplierFromFilename', <function SupplierFromFilename at 0x7fc5659a3f70>), ('_test', <function _test at 0x7fc5659bd0d0>)]\n"
     ]
    }
   ],
   "source": [
    "from rdkit import Chem\n",
    "print(getmembers(Chem, isfunction))\n",
    "Chem_dict={}\n",
    "for i in getmembers(Chem, isfunction) :\n",
    "    Chem_dict[i[0]]= i[1]"
   ]
  },
  {
   "cell_type": "code",
   "execution_count": 26,
   "id": "65e6404e",
   "metadata": {},
   "outputs": [
    {
     "data": {
      "text/plain": [
       "12"
      ]
     },
     "execution_count": 26,
     "metadata": {},
     "output_type": "execute_result"
    }
   ],
   "source": [
    "len(Chem_dict)"
   ]
  },
  {
   "cell_type": "code",
   "execution_count": 27,
   "id": "2ed4b47c",
   "metadata": {},
   "outputs": [
    {
     "name": "stdout",
     "output_type": "stream",
     "text": [
      "CanonSmiles\n",
      "FindMolChiralCenters\n",
      "InchiToInchiKey\n",
      "MolBlockToInchi\n",
      "MolBlockToInchiAndAuxInfo\n",
      "MolFromInchi\n",
      "MolToInchi\n",
      "MolToInchiAndAuxInfo\n",
      "MolToInchiKey\n",
      "QuickSmartsMatch\n",
      "SupplierFromFilename\n",
      "_test\n"
     ]
    }
   ],
   "source": [
    "for i in Chem_dict : \n",
    "    print(i)"
   ]
  },
  {
   "cell_type": "code",
   "execution_count": 31,
   "id": "21f74437",
   "metadata": {},
   "outputs": [
    {
     "data": {
      "text/plain": [
       "<rdkit.DataStructs.cDataStructs.ExplicitBitVect at 0x7fc560874ee0>"
      ]
     },
     "execution_count": 31,
     "metadata": {},
     "output_type": "execute_result"
    }
   ],
   "source": [
    "from rdkit.Chem import AllChem\n",
    "\n",
    "fp = Chem.MACCSkeys.GenMACCSKeys(m)\n",
    "fp"
   ]
  },
  {
   "cell_type": "code",
   "execution_count": 32,
   "id": "92fc4c7b",
   "metadata": {},
   "outputs": [
    {
     "data": {
      "text/plain": [
       "<rdkit.DataStructs.cDataStructs.ExplicitBitVect at 0x7fc560874fa0>"
      ]
     },
     "execution_count": 32,
     "metadata": {},
     "output_type": "execute_result"
    }
   ],
   "source": [
    "fp = Chem.AllChem.GetMorganFingerprintAsBitVect(m, 2)\n",
    "fp"
   ]
  },
  {
   "cell_type": "code",
   "execution_count": null,
   "id": "8a5e4e5a",
   "metadata": {},
   "outputs": [],
   "source": [
    "fp = Chem.RDKFingerprint(m)\n",
    "fp"
   ]
  },
  {
   "cell_type": "code",
   "execution_count": null,
   "id": "5d752ca4",
   "metadata": {},
   "outputs": [],
   "source": [
    "fp = Chem.rdmolops.LayeredFingerprint(m)\n",
    "fp"
   ]
  },
  {
   "cell_type": "code",
   "execution_count": 29,
   "id": "6f09126e",
   "metadata": {},
   "outputs": [],
   "source": [
    "fp = Chem.rdmolops.PatternFingerprint(m)\n",
    "fp"
   ]
  },
  {
   "cell_type": "code",
   "execution_count": 30,
   "id": "0c7044be",
   "metadata": {},
   "outputs": [
    {
     "data": {
      "text/plain": [
       "'2021.09.2'"
      ]
     },
     "execution_count": 30,
     "metadata": {},
     "output_type": "execute_result"
    }
   ],
   "source": [
    "rdkit.__version__"
   ]
  },
  {
   "cell_type": "code",
   "execution_count": null,
   "id": "4fe54b62",
   "metadata": {},
   "outputs": [],
   "source": [
    "import sys\n",
    "import os\n",
    "import requests\n",
    "import subprocess\n",
    "import shutil\n",
    "from logging import getLogger, StreamHandler, INFO\n",
    "\n",
    "\n",
    "logger = getLogger(__name__)\n",
    "logger.addHandler(StreamHandler())\n",
    "logger.setLevel(INFO)\n",
    "\n",
    "\n",
    "def install(\n",
    "    \n",
    "        chunk_size=4096,\n",
    "        file_name=\"Miniconda3-latest-Linux-x86_64.sh\",\n",
    "        url_base=\"https://repo.continuum.io/miniconda/\",\n",
    "        conda_path=os.path.expanduser(os.path.join(\"~\", \"miniconda\")),\n",
    "        rdkit_version='2020.09.1',\n",
    "        add_python_path=True,\n",
    "        force=False):\n",
    "    \"\"\"install rdkit from miniconda\n",
    "    ```\n",
    "    import rdkit_installer\n",
    "    rdkit_installer.install()\n",
    "    ```\n",
    "    \"\"\"\n",
    "\n",
    "    python_path = os.path.join(\n",
    "        conda_path,\n",
    "        \"lib\",\n",
    "        \"python{0}.{1}\".format(*sys.version_info),\n",
    "        \"site-packages\",\n",
    "    )\n",
    "\n",
    "    if add_python_path and python_path not in sys.path:\n",
    "        logger.info(\"add {} to PYTHONPATH\".format(python_path))\n",
    "        sys.path.append(python_path)\n",
    "\n",
    "    if os.path.isdir(os.path.join(python_path, \"rdkit\")):\n",
    "        logger.info(\"rdkit is already installed\")\n",
    "        if not force:\n",
    "            return\n",
    "\n",
    "        logger.info(\"force re-install\")\n",
    "\n",
    "    url = url_base + file_name\n",
    "    python_version = \"{0}.{1}.{2}\".format(*sys.version_info)\n",
    "\n",
    "    logger.info(\"python version: {}\".format(python_version))\n",
    "\n",
    "    if os.path.isdir(conda_path):\n",
    "        logger.warning(\"remove current miniconda\")\n",
    "        shutil.rmtree(conda_path)\n",
    "    elif os.path.isfile(conda_path):\n",
    "        logger.warning(\"remove {}\".format(conda_path))\n",
    "        os.remove(conda_path)\n",
    "\n",
    "    logger.info('fetching installer from {}'.format(url))\n",
    "    res = requests.get(url, stream=True)\n",
    "    res.raise_for_status()\n",
    "    with open(file_name, 'wb') as f:\n",
    "        for chunk in res.iter_content(chunk_size):\n",
    "            f.write(chunk)\n",
    "    logger.info('done')\n",
    "\n",
    "    logger.info('installing miniconda to {}'.format(conda_path))\n",
    "    subprocess.check_call([\"bash\", file_name, \"-b\", \"-p\", conda_path])\n",
    "    logger.info('done')\n",
    "\n",
    "    logger.info(\"installing rdkit\")\n",
    "    subprocess.check_call([\n",
    "        os.path.join(conda_path, \"bin\", \"conda\"),\n",
    "        \"install\",\n",
    "        \"--yes\",\n",
    "        \"-c\", \"rdkit\",\n",
    "        \"python==3.7.10\",\n",
    "        \"rdkit\" if rdkit_version is None else \"rdkit=={}\".format(rdkit_version)])\n",
    "    logger.info(\"done\")\n",
    "\n",
    "    import rdkit\n",
    "    logger.info(\"rdkit-{} installation finished!\".format(rdkit.__version__))\n",
    "\n",
    "\n",
    "\n",
    "install()"
   ]
  }
 ],
 "metadata": {
  "kernelspec": {
   "display_name": "Python 3 (ipykernel)",
   "language": "python",
   "name": "python3"
  },
  "language_info": {
   "codemirror_mode": {
    "name": "ipython",
    "version": 3
   },
   "file_extension": ".py",
   "mimetype": "text/x-python",
   "name": "python",
   "nbconvert_exporter": "python",
   "pygments_lexer": "ipython3",
   "version": "3.8.12"
  }
 },
 "nbformat": 4,
 "nbformat_minor": 5
}
