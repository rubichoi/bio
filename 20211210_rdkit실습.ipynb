{
 "cells": [
  {
   "cell_type": "markdown",
   "id": "46731bfe",
   "metadata": {},
   "source": []
  },
  {
   "cell_type": "code",
   "execution_count": 1,
   "id": "0ed6cbeb",
   "metadata": {},
   "outputs": [
    {
     "name": "stdout",
     "output_type": "stream",
     "text": [
      "Collecting rdkit-pypi\n",
      "  Downloading rdkit_pypi-2021.9.3-cp39-cp39-manylinux_2_17_x86_64.manylinux2014_x86_64.whl (20.8 MB)\n",
      "\u001b[K     |████████████████████████████████| 20.8 MB 10.1 MB/s eta 0:00:01\n",
      "\u001b[?25hRequirement already satisfied: numpy>=1.19 in /home/crb123/anaconda3/lib/python3.9/site-packages (from rdkit-pypi) (1.19.5)\n",
      "Installing collected packages: rdkit-pypi\n",
      "Successfully installed rdkit-pypi-2021.9.3\n"
     ]
    }
   ],
   "source": [
    "!pip install rdkit-pypi"
   ]
  },
  {
   "cell_type": "code",
   "execution_count": 2,
   "id": "6c9502d2",
   "metadata": {},
   "outputs": [],
   "source": [
    "from rdkit import Chem"
   ]
  },
  {
   "cell_type": "code",
   "execution_count": 3,
   "id": "19e9796f",
   "metadata": {},
   "outputs": [],
   "source": [
    "from rdkit.Chem import Descriptors"
   ]
  },
  {
   "cell_type": "code",
   "execution_count": 4,
   "id": "17c8c509",
   "metadata": {},
   "outputs": [
    {
     "data": {
      "image/png": "[encoded data removed]",
      "text/plain": [
       "<rdkit.Chem.rdchem.Mol at 0x7fef37656f40>"
      ]
     },
     "execution_count": 4,
     "metadata": {},
     "output_type": "execute_result"
    }
   ],
   "source": [
    "Chem.MolFromSmiles('Cc1ccccc1')"
   ]
  },
  {
   "cell_type": "code",
   "execution_count": 5,
   "id": "7f21e6c5",
   "metadata": {},
   "outputs": [
    {
     "data": {
      "image/png": "[encoded data removed]",
      "text/plain": [
       "<rdkit.Chem.rdchem.Mol at 0x7fef38e182e0>"
      ]
     },
     "execution_count": 5,
     "metadata": {},
     "output_type": "execute_result"
    }
   ],
   "source": [
    "m1 = 'CCN1CNS(=O)(=O)c2c1cccn2 '\n",
    "Chem.MolFromSmiles(m1)"
   ]
  },
  {
   "cell_type": "markdown",
   "id": "4db2c954",
   "metadata": {},
   "source": [
    "### 2D Depiction"
   ]
  },
  {
   "cell_type": "code",
   "execution_count": 6,
   "id": "2414eb80",
   "metadata": {},
   "outputs": [
    {
     "name": "stdout",
     "output_type": "stream",
     "text": [
      "\n",
      "     RDKit          2D\n",
      "\n",
      " 14 15  0  0  0  0  0  0  0  0999 V2000\n",
      "    3.7500   -3.8971    0.0000 C   0  0  0  0  0  0  0  0  0  0  0  0\n",
      "    3.0000   -2.5981    0.0000 C   0  0  0  0  0  0  0  0  0  0  0  0\n",
      "    1.5000   -2.5981    0.0000 N   0  0  0  0  0  0  0  0  0  0  0  0\n",
      "    0.7500   -3.8971    0.0000 C   0  0  0  0  0  0  0  0  0  0  0  0\n",
      "   -0.7500   -3.8971    0.0000 N   0  0  0  0  0  0  0  0  0  0  0  0\n",
      "   -1.5000   -2.5981    0.0000 S   0  0  0  0  0  0  0  0  0  0  0  0\n",
      "   -2.6491   -3.5623    0.0000 O   0  0  0  0  0  0  0  0  0  0  0  0\n",
      "   -2.6491   -1.6339    0.0000 O   0  0  0  0  0  0  0  0  0  0  0  0\n",
      "   -0.7500   -1.2990    0.0000 C   0  0  0  0  0  0  0  0  0  0  0  0\n",
      "    0.7500   -1.2990    0.0000 C   0  0  0  0  0  0  0  0  0  0  0  0\n",
      "    1.5000    0.0000    0.0000 C   0  0  0  0  0  0  0  0  0  0  0  0\n",
      "    0.7500    1.2990    0.0000 C   0  0  0  0  0  0  0  0  0  0  0  0\n",
      "   -0.7500    1.2990    0.0000 C   0  0  0  0  0  0  0  0  0  0  0  0\n",
      "   -1.5000    0.0000    0.0000 N   0  0  0  0  0  0  0  0  0  0  0  0\n",
      "  1  2  1  0\n",
      "  2  3  1  0\n",
      "  3  4  1  0\n",
      "  4  5  1  0\n",
      "  5  6  1  0\n",
      "  6  7  2  0\n",
      "  6  8  2  0\n",
      "  6  9  1  0\n",
      "  9 10  2  0\n",
      " 10 11  1  0\n",
      " 11 12  2  0\n",
      " 12 13  1  0\n",
      " 13 14  2  0\n",
      " 10  3  1  0\n",
      " 14  9  1  0\n",
      "M  END\n",
      "\n"
     ]
    }
   ],
   "source": [
    "print(Chem.MolToMolBlock(Chem.MolFromSmiles(m1)))"
   ]
  },
  {
   "cell_type": "code",
   "execution_count": 7,
   "id": "ed270319",
   "metadata": {},
   "outputs": [
    {
     "name": "stdout",
     "output_type": "stream",
     "text": [
      "CCN1CNS(=O)(=O)c2c1cccn2 \n",
      "<rdkit.Chem.rdchem.Mol object at 0x7fef37656e80>\n"
     ]
    }
   ],
   "source": [
    "m2 = Chem.MolFromSmiles(m1)\n",
    "print(m1)# 분자의 string\n",
    "print(m2)# m1을 읽어 만든 object"
   ]
  },
  {
   "cell_type": "code",
   "execution_count": 8,
   "id": "c5c07466",
   "metadata": {},
   "outputs": [
    {
     "name": "stderr",
     "output_type": "stream",
     "text": [
      "RDKit WARNING: [08:10:27] Molecule does not have explicit Hs. Consider calling AddHs()\n",
      "[08:10:27] Molecule does not have explicit Hs. Consider calling AddHs()\n"
     ]
    },
    {
     "data": {
      "text/plain": [
       "0"
      ]
     },
     "execution_count": 8,
     "metadata": {},
     "output_type": "execute_result"
    }
   ],
   "source": [
    "from rdkit.Chem import AllChem\n",
    "AllChem.EmbedMolecule(m2) # 3차원으로 나타내준다는 명령어"
   ]
  },
  {
   "cell_type": "code",
   "execution_count": 9,
   "id": "7c228487",
   "metadata": {},
   "outputs": [
    {
     "name": "stdout",
     "output_type": "stream",
     "text": [
      "\n",
      "     RDKit          3D\n",
      "\n",
      " 14 15  0  0  0  0  0  0  0  0999 V2000\n",
      "   -2.6028   -2.6052    0.6064 C   0  0  0  0  0  0  0  0  0  0  0  0\n",
      "   -2.0512   -1.8994   -0.6371 C   0  0  0  0  0  0  0  0  0  0  0  0\n",
      "   -0.8219   -1.2580   -0.2037 N   0  0  0  0  0  0  0  0  0  0  0  0\n",
      "    0.2823   -2.0987    0.1386 C   0  0  0  0  0  0  0  0  0  0  0  0\n",
      "    1.5511   -1.7161   -0.4084 N   0  0  0  0  0  0  0  0  0  0  0  0\n",
      "    1.9754   -0.1407    0.0694 S   0  0  0  0  0  0  0  0  0  0  0  0\n",
      "    2.6041   -0.0169    1.3988 O   0  0  0  0  0  0  0  0  0  0  0  0\n",
      "    2.8770    0.4247   -0.9929 O   0  0  0  0  0  0  0  0  0  0  0  0\n",
      "    0.4927    0.8298    0.0397 C   0  0  0  0  0  0  0  0  0  0  0  0\n",
      "   -0.6963    0.1501   -0.1059 C   0  0  0  0  0  0  0  0  0  0  0  0\n",
      "   -1.8459    0.9489   -0.1378 C   0  0  0  0  0  0  0  0  0  0  0  0\n",
      "   -1.7978    2.3144   -0.0301 C   0  0  0  0  0  0  0  0  0  0  0  0\n",
      "   -0.5504    2.8931    0.1138 C   0  0  0  0  0  0  0  0  0  0  0  0\n",
      "    0.5836    2.1738    0.1492 N   0  0  0  0  0  0  0  0  0  0  0  0\n",
      "  1  2  1  0\n",
      "  2  3  1  0\n",
      "  3  4  1  0\n",
      "  4  5  1  0\n",
      "  5  6  1  0\n",
      "  6  7  2  0\n",
      "  6  8  2  0\n",
      "  6  9  1  0\n",
      "  9 10  2  0\n",
      " 10 11  1  0\n",
      " 11 12  2  0\n",
      " 12 13  1  0\n",
      " 13 14  2  0\n",
      " 10  3  1  0\n",
      " 14  9  1  0\n",
      "M  END\n",
      "\n"
     ]
    }
   ],
   "source": [
    "print(Chem.MolToMolBlock(m2))"
   ]
  },
  {
   "cell_type": "code",
   "execution_count": 10,
   "id": "494f5402",
   "metadata": {},
   "outputs": [
    {
     "data": {
      "text/plain": [
       "'InChI=1S/C8H11N3O2S/c1-2-11-6-10-14(12,13)8-7(11)4-3-5-9-8/h3-5,10H,2,6H2,1H3'"
      ]
     },
     "execution_count": 10,
     "metadata": {},
     "output_type": "execute_result"
    }
   ],
   "source": [
    "Chem.MolToInchi(m2)"
   ]
  },
  {
   "cell_type": "code",
   "execution_count": 11,
   "id": "791d9c53",
   "metadata": {},
   "outputs": [
    {
     "data": {
      "text/plain": [
       "'[#6]-[#6]-[#7]1-[#6]-[#7]-[#16](=[#8])(=[#8])-[#6]2:[#6]-1:[#6]:[#6]:[#6]:[#7]:2'"
      ]
     },
     "execution_count": 11,
     "metadata": {},
     "output_type": "execute_result"
    }
   ],
   "source": [
    "Chem.MolToSmarts(m2)"
   ]
  },
  {
   "cell_type": "code",
   "execution_count": 12,
   "id": "84a431bb",
   "metadata": {},
   "outputs": [
    {
     "data": {
      "image/png": "[encoded data removed]",
      "text/plain": [
       "<rdkit.Chem.rdchem.Mol at 0x7fef3762e4a0>"
      ]
     },
     "execution_count": 12,
     "metadata": {},
     "output_type": "execute_result"
    }
   ],
   "source": [
    "Chem.MolFromInchi('InChI=1S/C8H11N3O2S/c1-2-11-6-10-14(12,13)8-7(11)4-3-5-9-8/h3-5,10H,2,6H2,1H3')"
   ]
  },
  {
   "cell_type": "code",
   "execution_count": 13,
   "id": "7b63e720",
   "metadata": {},
   "outputs": [
    {
     "data": {
      "image/png": "[encoded data removed]",
      "text/plain": [
       "<rdkit.Chem.rdchem.Mol at 0x7fef3763ba60>"
      ]
     },
     "execution_count": 13,
     "metadata": {},
     "output_type": "execute_result"
    }
   ],
   "source": [
    "Chem.MolFromSmarts('[#6]-[#6]-[#7]1-[#6]-[#7]-[#16](=[#8])(=[#8])-[#6]2:[#6]-1:[#6]:[#6]:[#6]:[#7]:2')"
   ]
  },
  {
   "cell_type": "code",
   "execution_count": 14,
   "id": "3c79765a",
   "metadata": {},
   "outputs": [
    {
     "name": "stdout",
     "output_type": "stream",
     "text": [
      "14\n"
     ]
    }
   ],
   "source": [
    "print(m2.GetNumAtoms()) # 원자의 갯수를 카운트해줌"
   ]
  },
  {
   "cell_type": "markdown",
   "id": "16146946",
   "metadata": {},
   "source": [
    "### Command Completion"
   ]
  },
  {
   "cell_type": "code",
   "execution_count": 15,
   "id": "3320eb8b",
   "metadata": {},
   "outputs": [
    {
     "data": {
      "image/png": "[encoded data removed]",
      "text/plain": [
       "<rdkit.Chem.rdchem.Mol at 0x7fef3762e660>"
      ]
     },
     "execution_count": 15,
     "metadata": {},
     "output_type": "execute_result"
    }
   ],
   "source": [
    "mmm = Chem.MolFromInchi('InChI=1S/C8H11N3O2S/c1-2-11-6-10-14(12,13)8-7(11)4-3-5-9-8/h3-5,10H,2,6H2,1H3')\n",
    "mmm"
   ]
  },
  {
   "cell_type": "code",
   "execution_count": 16,
   "id": "f632c40b",
   "metadata": {},
   "outputs": [
    {
     "data": {
      "text/plain": [
       "15"
      ]
     },
     "execution_count": 16,
     "metadata": {},
     "output_type": "execute_result"
    }
   ],
   "source": [
    "mmm.GetNumBonds() #mmm.까지 입력후 tab"
   ]
  },
  {
   "cell_type": "code",
   "execution_count": 17,
   "id": "6e3eeb6b",
   "metadata": {},
   "outputs": [
    {
     "name": "stdout",
     "output_type": "stream",
     "text": [
      "\n",
      "     RDKit          3D\n",
      "\n",
      " 25 26  0  0  0  0  0  0  0  0999 V2000\n",
      "   -2.6028   -2.6052    0.6064 C   0  0  0  0  0  0  0  0  0  0  0  0\n",
      "   -2.0512   -1.8994   -0.6371 C   0  0  0  0  0  0  0  0  0  0  0  0\n",
      "   -0.8219   -1.2580   -0.2037 N   0  0  0  0  0  0  0  0  0  0  0  0\n",
      "    0.2823   -2.0987    0.1386 C   0  0  0  0  0  0  0  0  0  0  0  0\n",
      "    1.5511   -1.7161   -0.4084 N   0  0  0  0  0  0  0  0  0  0  0  0\n",
      "    1.9754   -0.1407    0.0694 S   0  0  0  0  0  6  0  0  0  0  0  0\n",
      "    2.6041   -0.0169    1.3988 O   0  0  0  0  0  0  0  0  0  0  0  0\n",
      "    2.8770    0.4247   -0.9929 O   0  0  0  0  0  0  0  0  0  0  0  0\n",
      "    0.4927    0.8298    0.0397 C   0  0  0  0  0  0  0  0  0  0  0  0\n",
      "   -0.6963    0.1501   -0.1059 C   0  0  0  0  0  0  0  0  0  0  0  0\n",
      "   -1.8459    0.9489   -0.1378 C   0  0  0  0  0  0  0  0  0  0  0  0\n",
      "   -1.7978    2.3144   -0.0301 C   0  0  0  0  0  0  0  0  0  0  0  0\n",
      "   -0.5504    2.8931    0.1138 C   0  0  0  0  0  0  0  0  0  0  0  0\n",
      "    0.5836    2.1738    0.1492 N   0  0  0  0  0  0  0  0  0  0  0  0\n",
      "    0.0000    0.0000    0.0000 H   0  0  0  0  0  0  0  0  0  0  0  0\n",
      "    0.0000    0.0000    0.0000 H   0  0  0  0  0  0  0  0  0  0  0  0\n",
      "    0.0000    0.0000    0.0000 H   0  0  0  0  0  0  0  0  0  0  0  0\n",
      "    0.0000    0.0000    0.0000 H   0  0  0  0  0  0  0  0  0  0  0  0\n",
      "    0.0000    0.0000    0.0000 H   0  0  0  0  0  0  0  0  0  0  0  0\n",
      "    0.0000    0.0000    0.0000 H   0  0  0  0  0  0  0  0  0  0  0  0\n",
      "    0.0000    0.0000    0.0000 H   0  0  0  0  0  0  0  0  0  0  0  0\n",
      "    0.0000    0.0000    0.0000 H   0  0  0  0  0  0  0  0  0  0  0  0\n",
      "    0.0000    0.0000    0.0000 H   0  0  0  0  0  0  0  0  0  0  0  0\n",
      "    0.0000    0.0000    0.0000 H   0  0  0  0  0  0  0  0  0  0  0  0\n",
      "    0.0000    0.0000    0.0000 H   0  0  0  0  0  0  0  0  0  0  0  0\n",
      "  1  2  1  0\n",
      "  2  3  1  0\n",
      "  3  4  1  0\n",
      "  4  5  1  0\n",
      "  5  6  1  0\n",
      "  6  7  2  0\n",
      "  6  8  2  0\n",
      "  6  9  1  0\n",
      "  9 10  2  0\n",
      " 10 11  1  0\n",
      " 11 12  2  0\n",
      " 12 13  1  0\n",
      " 13 14  2  0\n",
      " 10  3  1  0\n",
      " 14  9  1  0\n",
      "  1 15  1  0\n",
      "  1 16  1  0\n",
      "  1 17  1  0\n",
      "  2 18  1  0\n",
      "  2 19  1  0\n",
      "  4 20  1  0\n",
      "  4 21  1  0\n",
      "  5 22  1  0\n",
      " 11 23  1  0\n",
      " 12 24  1  0\n",
      " 13 25  1  0\n",
      "M  END\n",
      "\n"
     ]
    }
   ],
   "source": [
    "m3 = Chem.AddHs(m2) # 뒤에 수소도 다 붙여서 보여줌\n",
    "print (Chem.MolToMolBlock(m3))"
   ]
  },
  {
   "cell_type": "code",
   "execution_count": 18,
   "id": "fd934a65",
   "metadata": {},
   "outputs": [
    {
     "name": "stdout",
     "output_type": "stream",
     "text": [
      "\n",
      "     RDKit          3D\n",
      "\n",
      " 25 26  0  0  0  0  0  0  0  0999 V2000\n",
      "    2.7019   -1.1669    0.2644 C   0  0  0  0  0  0  0  0  0  0  0  0\n",
      "    1.7864   -0.5806   -0.8050 C   0  0  0  0  0  0  0  0  0  0  0  0\n",
      "    0.7297    0.1953   -0.1748 N   0  0  0  0  0  0  0  0  0  0  0  0\n",
      "    1.1504    1.4322    0.4437 C   0  0  0  0  0  0  0  0  0  0  0  0\n",
      "    0.2946    2.5527    0.0554 N   0  0  0  0  0  0  0  0  0  0  0  0\n",
      "   -1.3376    2.2454    0.4406 S   0  0  0  0  0  6  0  0  0  0  0  0\n",
      "   -2.2555    3.0659   -0.3732 O   0  0  0  0  0  0  0  0  0  0  0  0\n",
      "   -1.5752    2.3973    1.9191 O   0  0  0  0  0  0  0  0  0  0  0  0\n",
      "   -1.6776    0.5621    0.0634 C   0  0  0  0  0  0  0  0  0  0  0  0\n",
      "   -0.6037   -0.2806   -0.1856 C   0  0  0  0  0  0  0  0  0  0  0  0\n",
      "   -0.8644   -1.6288   -0.4652 C   0  0  0  0  0  0  0  0  0  0  0  0\n",
      "   -2.1654   -2.0477   -0.4805 C   0  0  0  0  0  0  0  0  0  0  0  0\n",
      "   -3.1931   -1.1772   -0.2295 C   0  0  0  0  0  0  0  0  0  0  0  0\n",
      "   -2.9436    0.1108    0.0388 N   0  0  0  0  0  0  0  0  0  0  0  0\n",
      "    3.7167   -0.7724    0.2478 H   0  0  0  0  0  0  0  0  0  0  0  0\n",
      "    2.2804   -0.9716    1.2867 H   0  0  0  0  0  0  0  0  0  0  0  0\n",
      "    2.7814   -2.2809    0.1860 H   0  0  0  0  0  0  0  0  0  0  0  0\n",
      "    2.4287    0.1542   -1.3944 H   0  0  0  0  0  0  0  0  0  0  0  0\n",
      "    1.4590   -1.4024   -1.4364 H   0  0  0  0  0  0  0  0  0  0  0  0\n",
      "    1.1963    1.4101    1.5360 H   0  0  0  0  0  0  0  0  0  0  0  0\n",
      "    2.1571    1.7051    0.0090 H   0  0  0  0  0  0  0  0  0  0  0  0\n",
      "    0.6028    3.3680    0.6318 H   0  0  0  0  0  0  0  0  0  0  0  0\n",
      "   -0.0273   -2.2995   -0.6480 H   0  0  0  0  0  0  0  0  0  0  0  0\n",
      "   -2.3934   -3.0702   -0.6879 H   0  0  0  0  0  0  0  0  0  0  0  0\n",
      "   -4.2485   -1.5201   -0.2423 H   0  0  0  0  0  0  0  0  0  0  0  0\n",
      "  1  2  1  0\n",
      "  2  3  1  0\n",
      "  3  4  1  0\n",
      "  4  5  1  0\n",
      "  5  6  1  0\n",
      "  6  7  2  0\n",
      "  6  8  2  0\n",
      "  6  9  1  0\n",
      "  9 10  2  0\n",
      " 10 11  1  0\n",
      " 11 12  2  0\n",
      " 12 13  1  0\n",
      " 13 14  2  0\n",
      " 10  3  1  0\n",
      " 14  9  1  0\n",
      "  1 15  1  0\n",
      "  1 16  1  0\n",
      "  1 17  1  0\n",
      "  2 18  1  0\n",
      "  2 19  1  0\n",
      "  4 20  1  0\n",
      "  4 21  1  0\n",
      "  5 22  1  0\n",
      " 11 23  1  0\n",
      " 12 24  1  0\n",
      " 13 25  1  0\n",
      "M  END\n",
      "\n"
     ]
    }
   ],
   "source": [
    "AllChem.EmbedMolecule(m3) # 수소의 위치 다시 3차원으로 잡아줌\n",
    "print(Chem.MolToMolBlock(m3))"
   ]
  },
  {
   "cell_type": "code",
   "execution_count": 19,
   "id": "557f530b",
   "metadata": {},
   "outputs": [
    {
     "name": "stdout",
     "output_type": "stream",
     "text": [
      "25\n"
     ]
    }
   ],
   "source": [
    "print(m3.GetNumAtoms())"
   ]
  },
  {
   "cell_type": "code",
   "execution_count": 20,
   "id": "ebfe7746",
   "metadata": {},
   "outputs": [
    {
     "data": {
      "image/png": "[encoded data removed]",
      "text/plain": [
       "<PIL.PngImagePlugin.PngImageFile image mode=RGB size=300x300 at 0x7FEF376860D0>"
      ]
     },
     "execution_count": 20,
     "metadata": {},
     "output_type": "execute_result"
    }
   ],
   "source": [
    "# 혹시 아래코드 안되면 !pip install pillow\n",
    "from rdkit.Chem import Draw\n",
    "Draw.MolToImage(m3)"
   ]
  },
  {
   "cell_type": "code",
   "execution_count": 21,
   "id": "005a1d53",
   "metadata": {},
   "outputs": [
    {
     "data": {
      "text/plain": [
       "'[H]c1nc2c(c([H])c1[H])N(C([H])([H])C([H])([H])[H])C([H])([H])N([H])S2(=O)=O'"
      ]
     },
     "execution_count": 21,
     "metadata": {},
     "output_type": "execute_result"
    }
   ],
   "source": [
    "Chem.MolToSmiles(m3)"
   ]
  },
  {
   "cell_type": "code",
   "execution_count": 22,
   "id": "a37453d1",
   "metadata": {},
   "outputs": [
    {
     "data": {
      "text/plain": [
       "'CCN1CNS(=O)(=O)c2ncccc21'"
      ]
     },
     "execution_count": 22,
     "metadata": {},
     "output_type": "execute_result"
    }
   ],
   "source": [
    "m4 = Chem.RemoveHs(m3)\n",
    "Chem.MolToSmiles(m4)"
   ]
  },
  {
   "cell_type": "code",
   "execution_count": 23,
   "id": "b50b10ce",
   "metadata": {},
   "outputs": [
    {
     "data": {
      "image/png": "[encoded data removed]",
      "text/plain": [
       "<rdkit.Chem.rdchem.Mol at 0x7fee7f4856a0>"
      ]
     },
     "execution_count": 23,
     "metadata": {},
     "output_type": "execute_result"
    }
   ],
   "source": [
    "m4"
   ]
  },
  {
   "cell_type": "code",
   "execution_count": 24,
   "id": "ccd53c14",
   "metadata": {},
   "outputs": [
    {
     "data": {
      "image/png": "[encoded data removed]",
      "text/plain": [
       "<PIL.PngImagePlugin.PngImageFile image mode=RGB size=300x300 at 0x7FEE7F481CA0>"
      ]
     },
     "execution_count": 24,
     "metadata": {},
     "output_type": "execute_result"
    }
   ],
   "source": [
    "Draw.MolToImage(m4)"
   ]
  },
  {
   "cell_type": "code",
   "execution_count": 25,
   "id": "163be166",
   "metadata": {},
   "outputs": [
    {
     "data": {
      "image/png": "[encoded data removed]",
      "text/plain": [
       "<PIL.PngImagePlugin.PngImageFile image mode=RGB size=300x300 at 0x7FEE7F481EE0>"
      ]
     },
     "execution_count": 25,
     "metadata": {},
     "output_type": "execute_result"
    }
   ],
   "source": [
    "Draw.MolToImage(Chem.MolFromSmiles(m1))"
   ]
  },
  {
   "cell_type": "markdown",
   "id": "209104cf",
   "metadata": {},
   "source": [
    "### 파일로 저장하기"
   ]
  },
  {
   "cell_type": "code",
   "execution_count": 26,
   "id": "83fc9ff5",
   "metadata": {},
   "outputs": [],
   "source": [
    "f = open('RDOut.mol','w')\n",
    "mol = Chem.MolToMolBlock(m4)\n",
    "f.write(mol)\n",
    "f.close()"
   ]
  },
  {
   "cell_type": "code",
   "execution_count": 27,
   "id": "67ad71fc",
   "metadata": {},
   "outputs": [],
   "source": [
    "img = Draw.MolToImage(Chem.MolFromSmiles(m1))\n",
    "img.save('RDOut.png')"
   ]
  },
  {
   "cell_type": "markdown",
   "id": "e3561b6c",
   "metadata": {},
   "source": [
    "### minimization"
   ]
  },
  {
   "cell_type": "code",
   "execution_count": 28,
   "id": "d6e1717e",
   "metadata": {},
   "outputs": [
    {
     "name": "stdout",
     "output_type": "stream",
     "text": [
      "28.870216475464566\n",
      "25.359748394664937\n",
      "\n",
      "     RDKit          3D\n",
      "\n",
      " 14 15  0  0  0  0  0  0  0  0999 V2000\n",
      "    2.4183   -1.5299    0.0759 C   0  0  0  0  0  0  0  0  0  0  0  0\n",
      "    1.8998   -0.4165   -0.8160 C   0  0  0  0  0  0  0  0  0  0  0  0\n",
      "    0.7945    0.2781   -0.1673 N   0  0  0  0  0  0  0  0  0  0  0  0\n",
      "    1.0850    1.5579    0.4793 C   0  0  0  0  0  0  0  0  0  0  0  0\n",
      "    0.2351    2.6138   -0.0579 N   0  0  0  0  0  0  0  0  0  0  0  0\n",
      "   -1.3895    2.2556    0.4194 S   0  0  0  0  0  6  0  0  0  0  0  0\n",
      "   -2.3432    3.0669   -0.4108 O   0  0  0  0  0  0  0  0  0  0  0  0\n",
      "   -1.5775    2.5721    1.8763 O   0  0  0  0  0  0  0  0  0  0  0  0\n",
      "   -1.6456    0.5490    0.1334 C   0  0  0  0  0  0  0  0  0  0  0  0\n",
      "   -0.5420   -0.2691   -0.1583 C   0  0  0  0  0  0  0  0  0  0  0  0\n",
      "   -0.7746   -1.6202   -0.4503 C   0  0  0  0  0  0  0  0  0  0  0  0\n",
      "   -2.0732   -2.1307   -0.4314 C   0  0  0  0  0  0  0  0  0  0  0  0\n",
      "   -3.1363   -1.2797   -0.1251 C   0  0  0  0  0  0  0  0  0  0  0  0\n",
      "   -2.9039    0.0325    0.1446 N   0  0  0  0  0  0  0  0  0  0  0  0\n",
      "  1  2  1  0\n",
      "  2  3  1  0\n",
      "  3  4  1  0\n",
      "  4  5  1  0\n",
      "  5  6  1  0\n",
      "  6  7  2  0\n",
      "  6  8  2  0\n",
      "  6  9  1  0\n",
      "  9 10  2  0\n",
      " 10 11  1  0\n",
      " 11 12  2  0\n",
      " 12 13  1  0\n",
      " 13 14  2  0\n",
      " 10  3  1  0\n",
      " 14  9  1  0\n",
      "M  END\n",
      "\n"
     ]
    },
    {
     "name": "stderr",
     "output_type": "stream",
     "text": [
      "RDKit WARNING: [08:13:59] Molecule does not have explicit Hs. Consider calling AddHs()\n",
      "[08:13:59] Molecule does not have explicit Hs. Consider calling AddHs()\n",
      "[08:13:59] Molecule does not have explicit Hs. Consider calling AddHs()\n",
      "RDKit WARNING: [08:13:59] Molecule does not have explicit Hs. Consider calling AddHs()\n"
     ]
    }
   ],
   "source": [
    "ff = AllChem.UFFGetMoleculeForceField(m4)\n",
    "print(ff.CalcEnergy()) # 넣어준 분자상태 그대로 에너지를 계산해줌\n",
    "AllChem.UFFOptimizeMolecule(m4) # 분자의 안정한 구조를 찾고\n",
    "print(ff.CalcEnergy()) # 안정한 상태의 에너지를 계산\n",
    "print(Chem.MolToMolBlock(m4)) "
   ]
  },
  {
   "cell_type": "markdown",
   "id": "50e30444",
   "metadata": {},
   "source": [
    "### Descriptors"
   ]
  },
  {
   "cell_type": "code",
   "execution_count": 29,
   "id": "7b3b0011",
   "metadata": {},
   "outputs": [
    {
     "name": "stdout",
     "output_type": "stream",
     "text": [
      "213.262\n",
      "0.15730000000000005\n",
      "52.445500000000024\n",
      "62.300000000000004\n",
      "82.81051803633056\n"
     ]
    }
   ],
   "source": [
    "from rdkit.Chem import Descriptors\n",
    "print(Descriptors.MolWt(m4))\n",
    "print(Descriptors.MolLogP(m4))\n",
    "print(Descriptors.MolMR(m4))\n",
    "print(Descriptors.TPSA(m4))\n",
    "print(Descriptors.LabuteASA(m4))"
   ]
  },
  {
   "cell_type": "markdown",
   "id": "f1480f7d",
   "metadata": {},
   "source": [
    "Descriptors.까지 입력 후 tab을 누르면 검색가능"
   ]
  },
  {
   "cell_type": "code",
   "execution_count": 30,
   "id": "229e3191",
   "metadata": {},
   "outputs": [
    {
     "name": "stdout",
     "output_type": "stream",
     "text": [
      "10.181798275874712\n",
      "6.648995134896753\n",
      "4\n",
      "1\n",
      "6\n",
      "\n",
      "1\n",
      "76\n",
      "2\n",
      "0.375\n",
      "\n"
     ]
    }
   ],
   "source": [
    "print(Descriptors.Chi0(m4))\n",
    "print(Descriptors.Chi1(m4))\n",
    "print(Descriptors.NumHAcceptors(m4))\n",
    "print(Descriptors.NumHDonors(m4))\n",
    "print(Descriptors.NumHeteroatoms(m4))\n",
    "print()\n",
    "print(Descriptors.NumRotatableBonds(m4))\n",
    "print(Descriptors.NumValenceElectrons(m4))\n",
    "print(Descriptors.RingCount(m4))\n",
    "print(Descriptors.FractionCSP3(m4))\n",
    "print()"
   ]
  },
  {
   "cell_type": "code",
   "execution_count": 31,
   "id": "2c8c01df",
   "metadata": {},
   "outputs": [
    {
     "data": {
      "text/plain": [
       "5"
      ]
     },
     "execution_count": 31,
     "metadata": {},
     "output_type": "execute_result"
    }
   ],
   "source": [
    "# 질소와 산소의 갯수만 count\n",
    "Descriptors.NOCount(m4)"
   ]
  },
  {
   "cell_type": "markdown",
   "id": "02cace89",
   "metadata": {},
   "source": [
    "### Fingerprint & Similarity : 굳이 볼 필요 없음"
   ]
  },
  {
   "cell_type": "code",
   "execution_count": 33,
   "id": "a0873b5d",
   "metadata": {},
   "outputs": [
    {
     "name": "stdout",
     "output_type": "stream",
     "text": [
      "<rdkit.DataStructs.cDataStructs.ExplicitBitVect object at 0x7fee7f4a00a0>\n"
     ]
    }
   ],
   "source": [
    "# MACCSKey = 166개의 비트로 이루어짐\n",
    "from rdkit.Chem import MACCSkeys\n",
    "\n",
    "mfp = MACCSkeys.GenMACCSKeys(m4)\n",
    "print(mfp)"
   ]
  },
  {
   "cell_type": "code",
   "execution_count": 34,
   "id": "f7d46b7b",
   "metadata": {},
   "outputs": [
    {
     "name": "stdout",
     "output_type": "stream",
     "text": [
      "65\n",
      "[28, 32, 33, 36, 47, 51, 55, 58, 59, 60, 61, 65, 67, 69, 73, 75, 77, 79, 80, 81, 82, 85, 86, 88, 90, 94, 95, 97, 98, 100, 101, 102, 105, 106, 112, 114, 116, 117, 120, 121, 122, 124, 127, 130, 135, 136, 137, 138, 142, 143, 144, 145, 148, 151, 153, 155, 156, 158, 159, 160, 161, 162, 163, 164, 165]\n"
     ]
    }
   ],
   "source": [
    "# 굳이 내용 보고싶다면 getonbits\n",
    "macc_on = list(mfp.GetOnBits())\n",
    "print(len(macc_on))\n",
    "print(macc_on)"
   ]
  },
  {
   "cell_type": "code",
   "execution_count": 35,
   "id": "65cedada",
   "metadata": {},
   "outputs": [
    {
     "data": {
      "text/plain": [
       "<rdkit.DataStructs.cDataStructs.UIntSparseIntVect at 0x7fee7f4a03a0>"
      ]
     },
     "execution_count": 35,
     "metadata": {},
     "output_type": "execute_result"
    }
   ],
   "source": [
    "from rdkit.Chem import AllChem\n",
    "mm1 = Chem.MolFromSmiles('Cc1ccccc1')\n",
    "\n",
    "fp1 = AllChem.GetMorganFingerprint(mm1,2)\n",
    "fp1"
   ]
  },
  {
   "cell_type": "code",
   "execution_count": 36,
   "id": "b2c27161",
   "metadata": {},
   "outputs": [
    {
     "name": "stdout",
     "output_type": "stream",
     "text": [
      "{98513984: ((3, 1), (4, 1), (5, 1)), 422715066: ((0, 1),), 908339072: ((1, 2),), 951226070: ((2, 1), (6, 1)), 2246728737: ((0, 0),), 2763854213: ((4, 2),), 3207567135: ((1, 1),), 3217380708: ((1, 0),), 3218693969: ((2, 0), (3, 0), (4, 0), (5, 0), (6, 0)), 3999906991: ((3, 2), (5, 2)), 4244175903: ((2, 2), (6, 2))}\n"
     ]
    },
    {
     "data": {
      "text/plain": [
       "11"
      ]
     },
     "execution_count": 36,
     "metadata": {},
     "output_type": "execute_result"
    }
   ],
   "source": [
    "# 내용을 굳이 보고싶다면\n",
    "info={}\n",
    "fpi1 = AllChem.GetMorganFingerprint(mm1, 2, bitInfo=info)\n",
    "print(info)\n",
    "len(fpi1.GetNonzeroElements())\n",
    "# 내용을 굳이 볼 필요는 없다."
   ]
  },
  {
   "cell_type": "code",
   "execution_count": 37,
   "id": "ab0837a6",
   "metadata": {},
   "outputs": [
    {
     "data": {
      "image/png": "[encoded data removed]",
      "text/plain": [
       "<IPython.core.display.Image object>"
      ]
     },
     "execution_count": 37,
     "metadata": {},
     "output_type": "execute_result"
    }
   ],
   "source": [
    "# fingerprint로 뭘 할수 있는지 \n",
    "from rdkit.Chem import rdFMCS\n",
    "\n",
    "mol1 = Chem.MolFromSmiles('O=C(NCc1cc(OC)c(O)cc1)CCCC/C=C/C(C)C')\n",
    "mol2 = Chem.MolFromSmiles('CC(C)CCCCCC(=O)NCC1=CC(=C(C=C1)O)OC')\n",
    "mol3 = Chem.MolFromSmiles('c1(C=O)cc(OC)c(O)cc1')\n",
    "mols = [mol1,mol2,mol3]\n",
    "img = Draw.MolsToGridImage(mols, molsPerRow = 3, subImgSize=(300,300), legends = ['%d'%(x+1) for x in range(3)])\n",
    "img"
   ]
  },
  {
   "cell_type": "code",
   "execution_count": 38,
   "id": "24c9bae7",
   "metadata": {},
   "outputs": [
    {
     "name": "stdout",
     "output_type": "stream",
     "text": [
      "Tanimoto : 0.9168975069252078 0.5431309904153354\n",
      "Dice     : 0.9566473988439307 0.7039337474120083\n"
     ]
    }
   ],
   "source": [
    "from rdkit import DataStructs\n",
    "from rdkit.Chem.Fingerprints import FingerprintMols\n",
    "\n",
    "fps = [FingerprintMols.FingerprintMol(x) for x in mols]\n",
    "t01 = DataStructs.FingerprintSimilarity(fps[0], fps[1])\n",
    "d01 = DataStructs.DiceSimilarity(fps[0],fps[1])\n",
    "t02 = DataStructs.FingerprintSimilarity(fps[0], fps[2])\n",
    "d02 = DataStructs.DiceSimilarity(fps[0],fps[2])\n",
    "print('Tanimoto :', t01, t02)\n",
    "print('Dice     :',d01, d02)"
   ]
  },
  {
   "cell_type": "markdown",
   "id": "3ed53ec9",
   "metadata": {},
   "source": [
    "### Maximum Common Substructure"
   ]
  },
  {
   "cell_type": "code",
   "execution_count": 39,
   "id": "aeb47af1",
   "metadata": {},
   "outputs": [
    {
     "name": "stdout",
     "output_type": "stream",
     "text": [
      "10 10\n",
      "[#6]1(-[#6]):[#6]:[#6](-[#8]-[#6]):[#6](:[#6]:[#6]:1)-[#8]\n",
      "\n",
      "     RDKit          2D\n",
      "\n",
      " 10 10  0  0  0  0  0  0  0  0999 V2000\n",
      "    1.5000    0.0000    0.0000 C   0  0  0  0  0  0  0  0  0  0  0  0\n",
      "    3.0000    0.0000    0.0000 C   0  0  0  0  0  0  0  0  0  0  0  0\n",
      "    0.7500   -1.2990    0.0000 C   0  0  0  0  0  0  0  0  0  0  0  0\n",
      "   -0.7500   -1.2990    0.0000 C   0  0  0  0  0  0  0  0  0  0  0  0\n",
      "   -1.5000   -2.5981    0.0000 O   0  0  0  0  0  0  0  0  0  0  0  0\n",
      "   -3.0000   -2.5981    0.0000 C   0  0  0  0  0  0  0  0  0  0  0  0\n",
      "   -1.5000    0.0000    0.0000 C   0  0  0  0  0  0  0  0  0  0  0  0\n",
      "   -0.7500    1.2990    0.0000 C   0  0  0  0  0  0  0  0  0  0  0  0\n",
      "    0.7500    1.2990    0.0000 C   0  0  0  0  0  0  0  0  0  0  0  0\n",
      "   -3.0000    0.0000    0.0000 O   0  0  0  0  0  0  0  0  0  0  0  0\n",
      "  1  2  1  0\n",
      "  1  3  4  0\n",
      "  3  4  4  0\n",
      "  5  6  1  0\n",
      "  4  5  1  0\n",
      "  4  7  4  0\n",
      "  8  9  4  0\n",
      "  7  8  4  0\n",
      "  7 10  1  0\n",
      "  9  1  4  0\n",
      "M  END\n",
      "\n"
     ]
    },
    {
     "data": {
      "image/png": "[encoded data removed]",
      "text/plain": [
       "<PIL.PngImagePlugin.PngImageFile image mode=RGB size=300x300 at 0x7FEE7F481E80>"
      ]
     },
     "execution_count": 39,
     "metadata": {},
     "output_type": "execute_result"
    }
   ],
   "source": [
    "# 위의 세분자가 가진 공통점 찾기\n",
    "res = rdFMCS.FindMCS(mols)\n",
    "print(res.numAtoms, res.numBonds)\n",
    "print(res.smartsString)\n",
    "patt = Chem.MolFromSmarts(res.smartsString)\n",
    "print(Chem.MolToMolBlock(patt))\n",
    "Draw.MolToImage(patt)"
   ]
  }
 ],
 "metadata": {
  "kernelspec": {
   "display_name": "Python 3 (ipykernel)",
   "language": "python",
   "name": "python3"
  },
  "language_info": {
   "codemirror_mode": {
    "name": "ipython",
    "version": 3
   },
   "file_extension": ".py",
   "mimetype": "text/x-python",
   "name": "python",
   "nbconvert_exporter": "python",
   "pygments_lexer": "ipython3",
   "version": "3.9.7"
  }
 },
 "nbformat": 4,
 "nbformat_minor": 5
}
