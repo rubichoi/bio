{
 "cells": [
  {
   "cell_type": "code",
   "execution_count": 1,
   "metadata": {},
   "outputs": [
    {
     "name": "stdout",
     "output_type": "stream",
     "text": [
      "MTVYAVTGGAEFLGR\n",
      "YIVK\n",
      "LLISADDVQEIR\n",
      "VINVVEDPQPLVSK\n",
      "VK\n",
      "VINYIQCDINDLIR\n",
      "6\n"
     ]
    }
   ],
   "source": [
    "protein=\"MTVYAVTGGAEFLGRYIVKLLISADDVQEIRVINVVEDPQPLVSKVKVINYIQCDINDLIR\"\n",
    "peptide=\"\"\n",
    "peptideList=[]\n",
    "\n",
    "for i in range(len(protein)):\n",
    "    peptide = peptide + protein[i]\n",
    "    if (protein[i] == \"K\") or (protein[i] == \"R\"):\n",
    "        print(peptide)\n",
    "        peptideList.append(peptide)\n",
    "        peptide = \"\"\n",
    "        \n",
    "print (len(peptideList))\n",
    "\n",
    "    "
   ]
  },
  {
   "cell_type": "code",
   "execution_count": 2,
   "metadata": {},
   "outputs": [
    {
     "name": "stdout",
     "output_type": "stream",
     "text": [
      "MTVYAVTGGAEFLGR\n",
      "YIVK\n",
      "LLISADDVQEIR\n",
      "VINVVEDPQPLVSK\n",
      "VK\n",
      "VINYIQCDINDLIR\n",
      "6\n"
     ]
    }
   ],
   "source": [
    "protein=open(\"C:/Users/user/bio/proteomics/protein.txt\",'r')\n",
    "\n",
    "peptide=\"\"\n",
    "peptideList=[]\n",
    "\n",
    "for line in protein:\n",
    "    for i in range(len(line)):\n",
    "        peptide = peptide + line[i]\n",
    "        if (line[i] == \"K\") or (line[i] == \"R\"):\n",
    "            print(peptide)\n",
    "            peptideList.append(peptide)\n",
    "            peptide = \"\"\n",
    "    print(len(peptideList))\n",
    "    peptideList =[]\n",
    "    peptide=\"\"\n",
    "    \n",
    "protein.close()"
   ]
  },
  {
   "cell_type": "code",
   "execution_count": null,
   "metadata": {},
   "outputs": [],
   "source": []
  }
 ],
 "metadata": {
  "kernelspec": {
   "display_name": "Python 3",
   "language": "python",
   "name": "python3"
  },
  "language_info": {
   "codemirror_mode": {
    "name": "ipython",
    "version": 3
   },
   "file_extension": ".py",
   "mimetype": "text/x-python",
   "name": "python",
   "nbconvert_exporter": "python",
   "pygments_lexer": "ipython3",
   "version": "3.8.8"
  }
 },
 "nbformat": 4,
 "nbformat_minor": 4
}
