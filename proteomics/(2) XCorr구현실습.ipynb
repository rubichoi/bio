{
 "cells": [
  {
   "cell_type": "code",
   "execution_count": 65,
   "metadata": {},
   "outputs": [
    {
     "name": "stdout",
     "output_type": "stream",
     "text": [
      "[0, 0, 0, 0, 0, 0, 0, 0, 0, 0, 0, 0, 0, 0, 0, 0, 0, 0, 0, 0, 5, 0, 0, 0, 0, 0, 0, 0, 0, 0, 0, 0, 0, 0, 0, 0, 0, 0, 0, 0, 0, 0, 0, 0, 0, 32, 0, 0, 0, 0, 7, 0, 0, 0, 0, 45, 0, 0, 0, 0, 0, 0, 0, 0, 0, 10, 0, 0, 0, 0, 0, 0, 0, 0, 0, 0, 0, 0, 0, 0, 52, 0, 0, 0, 0, 0, 0, 0, 0, 0, 0, 0, 0, 0, 0, 15, 0, 0, 0, 0, 0, 0, 0, 0, 0, 95, 0, 0, 0, 0, 0, 0, 0, 0, 0, 0, 0, 0, 0, 0, 30, 0, 0, 0, 0, 0, 0, 0, 0, 0, 0, 0, 0, 0, 0, 81, 0, 0, 0, 0, 29, 0, 0, 0, 0, 70, 0, 0, 0, 0, 0, 0, 0, 0, 0, 0, 0, 0, 0, 0, 24, 0, 0, 0, 0, 0, 0, 0, 0, 0, 0, 0, 0, 0, 0, 77, 0, 0, 0, 0, 0, 0, 0, 0, 0, 18, 0, 0, 0, 0, 0, 0, 0, 0, 0, 0, 0, 0, 0, 0, 57, 0, 0, 0, 0, 0, 0, 0, 0, 0, 13, 0, 0, 0, 0, 0, 0, 0, 0, 0, 0, 0, 0, 0, 0, 37, 0, 0, 0, 0, 9, 0, 0, 0, 0, 30, 0, 0, 0, 0, 0, 0, 0, 0, 0, 5, 0, 0, 0, 0, 0, 0, 0, 0, 0, 0, 0, 0, 0, 0, 0, 0, 0, 0, 0, 0, 0, 0, 0, 0, 0, 0, 0, 0, 0, 0, 0, 0, 0, 0, 0]\n"
     ]
    }
   ],
   "source": [
    "import time\n",
    "startTime = time.time()\n",
    "\n",
    "L = 45\n",
    "S = 35\n",
    "K = 55\n",
    "E = 50\n", 
    "G = 25\n",
    "A = 30\n",
    "V = 40\n",
    "\n",
    "fragmentTolerance = 1 # 해상도1\n",
    "\n",
    "\n",
    "spectrum=open(\"C:/Users/user/bio/proteomics/실습자료/XCorr구현실습/spectrum.mgf\",'r')\n",
    "\n",
    "for line in spectrum:\n",
    "    line = line.rstrip(\"\\n\")\n",
    "    \n",
    "    if line.startswith(\"PEPMASS\"):\n",
    "        pepmass = float(line.split(\"=\")[1])\n",
    "        bin_size = int(pepmass/fragmentTolerance) + 1\n",
    "        experimental = [0] * bin_size\n",
    "    elif line[0].isdigit():\n",
    "        mz = float(line.split(\" \")[0])\n",
    "        index = int(mz/fragmentTolerance)\n",
    "        \n",
    "        intensity=int(line.split(\" \")[1])\n",
    "        experimental[index] = intensity\n",
    "\n",
    "print(experimental)\n",
    "spectrum.close()\n"
   ]
  },
  {
   "cell_type": "code",
   "execution_count": 55,
   "metadata": {},
   "outputs": [
    {
     "name": "stdout",
     "output_type": "stream",
     "text": [
      "['LSKEGAV', 'VGGGGEVGG', 'LSGAVEK', 'ESEELE', 'LLESGGK']\n"
     ]
    }
   ],
   "source": [
    "database=open(\"C:/Users/ADMIN/Desktop/실습자료/XCorr구현실습/database.fasta\",'r')\n",
    "\n",
    "bestPeptide=\"\"\n",
    "peptides=[]\n",
    "bestXCorr = 0\n",
    "\n",
    "for line in database:\n",
    "    line = line.rstrip(\"\\n\")\n",
    "    if not (line.startswith(\">\")):\n",
    "        peptides.append(line)\n",
    "        \n",
    "print(peptides)\n",
    "database.close()"
   ]
  },
  {
   "cell_type": "code",
   "execution_count": 3,
   "metadata": {},
   "outputs": [
    {
     "name": "stdout",
     "output_type": "stream",
     "text": [
      "['LSKEGAV', 'VGGGGEVGG', 'LSGAVEK', 'ESEELE', 'LLESGGK']\n",
      "5\n",
      "LSKEGAV\n",
      "L\n",
      "LS\n",
      "LSK\n",
      "LSKE\n",
      "LSKEG\n",
      "LSKEGA\n"
     ]
    }
   ],
   "source": [
    "print(peptides)\n",
    "print(len(peptides))\n",
    "print(peptides[0])\n",
    "print(peptides[0][:1])\n",
    "print(peptides[0][:2])\n",
    "print(peptides[0][:3])\n",
    "print(peptides[0][:4])\n",
    "print(peptides[0][:5])\n",
    "print(peptides[0][:6])"
   ]
  },
  {
   "cell_type": "code",
   "execution_count": 60,
   "metadata": {},
   "outputs": [
    {
     "name": "stdout",
     "output_type": "stream",
     "text": [
      "368.0\n",
      "\n",
      "55.0\n",
      "\n",
      "576.0\n",
      "\n",
      "200.0\n",
      "\n",
      "454.0\n",
      "\n",
      "LSGAVEK\n",
      "576.0\n",
      "running time : 109.94437885284424\n"
     ]
    }
   ],
   "source": [
    "bestXCorr = 0\n",
    "startTime = time.time()\n",
    "for peptide in range(len(peptides)):\n",
    "    theoretical =[0]*bin_size\n",
    "    b_ion = 0\n",
    "    y_ion = 0\n",
    "    \n",
    "    for q in range(len(peptides[peptide])-1):\n",
    "        if peptides[peptide][q] ==\"L\":\n",
    "            b_ion += L\n",
    "            y_ion = pepmass - b_ion\n",
    "        if peptides[peptide][q] ==\"S\":\n",
    "            b_ion += S\n",
    "            y_ion = pepmass - b_ion\n",
    "        if peptides[peptide][q] ==\"K\":\n",
    "            b_ion += K\n",
    "            y_ion = pepmass - b_ion\n",
    "        if peptides[peptide][q] ==\"E\":\n",
    "            b_ion += E\n",
    "            y_ion = pepmass - b_ion\n",
    "        if peptides[peptide][q] ==\"G\":\n",
    "            b_ion += G\n",
    "            y_ion = pepmass - b_ion\n",
    "        if peptides[peptide][q] ==\"A\":\n",
    "            b_ion += A\n",
    "            y_ion = pepmass - b_ion\n",
    "        if peptides[peptide][q] ==\"V\":\n",
    "            b_ion += V\n",
    "            y_ion = pepmass - b_ion\n",
    "        indexb = int(b_ion/fragmentTolerance)\n",
    "        indexy = int(y_ion/fragmentTolerance)\n",
    "        theoretical[indexb] = 1\n",
    "        theoretical[indexy] = 1\n",
    "    #print(theoretical)\n",
    "\n",
    "    tau =74\n",
    "    xcorr = 0\n",
    "    xcorr_avg = 0\n",
    "    \n",
    "    for t in range(-tau,tau+1):\n",
    "        for b in range(bin_size):\n",
    "            if((b+t)>=0 and ((b+t) < bin_size)):\n",
    "                #print(theoretical[b])\n",
    "                xcorr_avg += float(experimental[b+t])*float(theoretical[b])\n",
    "    \n",
    "    for b in range(bin_size):\n",
    "        xcorr += experimental[b]*theoretical[b]\n",
    "    \n",
    "    xcorr_avg -= xcorr\n",
    "    xcorr_avg /= 2*tau\n",
    "    xcorr -= xcorr_avg\n",
    "    \n",
    "    if xcorr > bestXCorr:\n",
    "        bestPeptide = peptides[peptide]\n",
    "        bestXCorr = xcorr\n",
    "        \n",
    "    print(xcorr)\n",
    "    print(\"\")\n",
    "    \n",
    "print(bestPeptide)\n",
    "print(bestXCorr)\n",
    "print(\"running time :\",time.time() - startTime)\n"
   ]
  },
  {
   "cell_type": "code",
   "execution_count": 13,
   "metadata": {},
   "outputs": [
    {
     "name": "stdout",
     "output_type": "stream",
     "text": [
      "[0, 0, 0, 0, 0, 0, 0, 0, 0, 0, 0, 0, 0, 0, 0, 0, 0, 0, 0, 0, 0, 0, 0, 0, 0, 0, 0, 0, 0, 0, 0, 0, 0, 0, 0, 0, 0, 0, 0, 0, 1, 0, 0, 0, 0, 0, 0, 0, 0, 0, 0, 0, 0, 0, 0, 0, 0, 0, 0, 0, 0, 0, 0, 0, 0, 0, 0, 0, 0, 0, 1, 0, 0, 0, 0, 0, 0, 0, 0, 0, 0, 0, 0, 0, 0, 0, 0, 0, 0, 0, 0, 0, 0, 0, 0, 1, 0, 0, 0, 0, 0, 0, 0, 0, 0, 0, 0, 0, 0, 0, 0, 0, 0, 0, 0, 0, 0, 0, 0, 0, 0, 0, 0, 0, 0, 0, 0, 0, 0, 0, 0, 0, 0, 0, 0, 0, 0, 0, 0, 0, 0, 0, 0, 0, 0, 1, 0, 0, 0, 0, 0, 0, 0, 0, 0, 0, 0, 0, 0, 0, 0, 0, 0, 0, 0, 0, 0, 0, 0, 0, 0, 0, 0, 0, 0, 0, 0, 0, 0, 0, 0, 0, 0, 0, 0, 0, 0, 0, 0, 0, 0, 0, 0, 0, 0, 0, 0, 0, 0, 0, 1, 0, 0, 0, 0, 0, 0, 0, 0, 0, 0, 0, 0, 0, 0, 0, 0, 0, 0, 0, 0, 0, 0, 0, 0, 0, 0, 0, 0, 0, 0, 0, 0, 0, 0, 1, 0, 0, 0, 0, 0, 0, 0, 0, 0, 0, 0, 0, 0, 0, 0, 0, 0, 0, 0, 0, 0, 0, 0, 0, 0, 0, 0, 0, 0, 0, 0, 0, 0, 0, 0, 0, 0, 0, 0, 0, 0, 0, 0, 0, 0]\n",
      "[0, 0, 0, 0, 0, 0, 0, 0, 0, 0, 0, 0, 0, 0, 0, 0, 0, 0, 0, 0, 0, 0, 0, 0, 0, 1, 0, 0, 0, 0, 0, 0, 0, 0, 0, 0, 0, 0, 0, 0, 0, 0, 0, 0, 0, 0, 0, 0, 0, 0, 1, 0, 0, 0, 0, 0, 0, 0, 0, 0, 0, 0, 0, 0, 0, 0, 0, 0, 0, 0, 0, 0, 0, 0, 0, 0, 0, 0, 0, 0, 0, 0, 0, 0, 0, 0, 0, 0, 0, 0, 1, 0, 0, 0, 0, 0, 0, 0, 0, 0, 0, 0, 0, 0, 0, 0, 0, 0, 0, 0, 0, 0, 0, 0, 0, 0, 0, 0, 0, 0, 0, 0, 0, 0, 0, 0, 0, 0, 0, 0, 0, 0, 0, 0, 0, 0, 0, 0, 0, 0, 1, 0, 0, 0, 0, 0, 0, 0, 0, 0, 0, 0, 0, 0, 0, 0, 0, 0, 0, 0, 0, 0, 0, 0, 0, 1, 0, 0, 0, 0, 0, 0, 0, 0, 0, 0, 0, 0, 0, 0, 0, 0, 0, 0, 0, 0, 0, 0, 0, 0, 1, 0, 0, 0, 0, 0, 0, 0, 0, 0, 0, 0, 0, 0, 0, 0, 0, 0, 0, 0, 0, 0, 0, 0, 0, 1, 0, 0, 0, 0, 0, 0, 0, 0, 0, 0, 0, 0, 0, 0, 0, 0, 0, 0, 0, 0, 0, 0, 0, 0, 1, 0, 0, 0, 0, 0, 0, 0, 0, 0, 0, 0, 0, 0, 0, 0, 0, 0, 0, 0, 0, 0, 0, 0, 0, 0, 0, 0, 0, 0, 0, 0, 0, 0, 0, 0, 0, 0, 0, 0, 0]\n",
      "[0, 0, 0, 0, 0, 0, 0, 0, 0, 0, 0, 0, 0, 0, 0, 0, 0, 0, 0, 0, 0, 0, 0, 0, 0, 0, 0, 0, 0, 0, 0, 0, 0, 0, 0, 0, 0, 0, 0, 0, 0, 0, 0, 0, 0, 0, 0, 0, 0, 0, 0, 0, 0, 0, 0, 1, 0, 0, 0, 0, 0, 0, 0, 0, 0, 0, 0, 0, 0, 0, 0, 0, 0, 0, 0, 0, 0, 0, 0, 0, 0, 0, 0, 0, 0, 0, 0, 0, 0, 0, 0, 0, 0, 0, 0, 0, 0, 0, 0, 0, 0, 0, 0, 0, 0, 1, 0, 0, 0, 0, 0, 0, 0, 0, 0, 0, 0, 0, 0, 0, 0, 0, 0, 0, 0, 0, 0, 0, 0, 0, 0, 0, 0, 0, 0, 0, 0, 0, 0, 0, 0, 0, 0, 0, 0, 1, 0, 0, 0, 0, 0, 0, 0, 0, 0, 0, 0, 0, 0, 0, 0, 0, 0, 0, 0, 0, 0, 0, 0, 0, 0, 0, 0, 0, 0, 1, 0, 0, 0, 0, 0, 0, 0, 0, 0, 0, 0, 0, 0, 0, 0, 0, 0, 0, 0, 0, 0, 0, 0, 0, 1, 0, 0, 0, 0, 0, 0, 0, 0, 0, 0, 0, 0, 0, 0, 0, 0, 0, 0, 0, 0, 0, 0, 0, 0, 0, 0, 0, 0, 0, 0, 0, 0, 0, 0, 1, 0, 0, 0, 0, 0, 0, 0, 0, 0, 0, 0, 0, 0, 0, 0, 0, 0, 0, 0, 0, 0, 0, 0, 0, 0, 0, 0, 0, 0, 0, 0, 0, 0, 0, 0, 0, 0, 0, 0, 0, 0, 0, 0, 0, 0]\n",
      "[0, 0, 0, 0, 0, 0, 0, 0, 0, 0, 0, 0, 0, 0, 0, 0, 0, 0, 0, 0, 0, 0, 0, 0, 0, 0, 0, 0, 0, 0, 0, 0, 0, 0, 0, 0, 0, 0, 0, 0, 0, 0, 0, 0, 0, 0, 0, 0, 0, 0, 1, 0, 0, 0, 0, 0, 0, 0, 0, 0, 0, 0, 0, 0, 0, 0, 0, 0, 0, 0, 0, 0, 0, 0, 0, 0, 0, 0, 0, 0, 0, 0, 0, 0, 0, 0, 0, 0, 0, 0, 0, 0, 0, 0, 0, 1, 0, 0, 0, 0, 0, 0, 0, 0, 0, 0, 0, 0, 0, 0, 0, 0, 0, 0, 0, 0, 0, 0, 0, 0, 0, 0, 0, 0, 0, 0, 0, 0, 0, 0, 0, 0, 0, 0, 0, 0, 0, 0, 0, 0, 0, 0, 0, 0, 0, 1, 0, 0, 0, 0, 0, 0, 0, 0, 0, 0, 0, 0, 0, 0, 0, 0, 0, 0, 0, 0, 0, 0, 0, 0, 0, 0, 0, 0, 0, 0, 0, 0, 0, 0, 0, 0, 0, 0, 0, 0, 0, 0, 0, 0, 0, 0, 0, 0, 0, 1, 0, 0, 0, 0, 0, 0, 0, 0, 0, 0, 0, 0, 0, 0, 0, 0, 0, 0, 0, 0, 0, 0, 0, 0, 0, 0, 0, 0, 0, 0, 0, 0, 0, 0, 1, 0, 0, 0, 0, 0, 0, 0, 0, 0, 0, 0, 0, 0, 0, 0, 0, 0, 0, 0, 0, 0, 0, 0, 0, 0, 0, 0, 0, 0, 0, 0, 0, 0, 0, 0, 0, 0, 0, 0, 0, 0, 0, 0, 0, 0, 0, 0, 0, 0, 0]\n",
      "[0, 0, 0, 0, 0, 0, 0, 0, 0, 0, 0, 0, 0, 0, 0, 0, 0, 0, 0, 0, 0, 0, 0, 0, 0, 0, 0, 0, 0, 0, 0, 0, 0, 0, 0, 0, 0, 0, 0, 0, 0, 0, 0, 0, 0, 0, 0, 0, 0, 0, 0, 0, 0, 0, 0, 1, 0, 0, 0, 0, 0, 0, 0, 0, 0, 0, 0, 0, 0, 0, 0, 0, 0, 0, 0, 0, 0, 0, 0, 0, 1, 0, 0, 0, 0, 0, 0, 0, 0, 0, 0, 0, 0, 0, 0, 0, 0, 0, 0, 0, 0, 0, 0, 0, 0, 1, 0, 0, 0, 0, 0, 0, 0, 0, 0, 0, 0, 0, 0, 0, 0, 0, 0, 0, 0, 0, 0, 0, 0, 0, 0, 0, 0, 0, 0, 0, 0, 0, 0, 0, 1, 0, 0, 0, 0, 0, 0, 0, 0, 0, 0, 0, 0, 0, 0, 0, 0, 0, 0, 0, 0, 0, 0, 0, 0, 0, 0, 0, 0, 0, 0, 0, 0, 0, 0, 0, 0, 0, 0, 0, 0, 0, 0, 0, 0, 0, 0, 0, 0, 0, 1, 0, 0, 0, 0, 0, 0, 0, 0, 0, 0, 0, 0, 0, 0, 0, 0, 0, 0, 0, 0, 0, 0, 0, 0, 0, 0, 0, 0, 0, 0, 0, 0, 0, 0, 0, 0, 0, 0, 0, 0, 0, 0, 0, 0, 1, 0, 0, 0, 0, 0, 0, 0, 0, 0, 0, 0, 0, 0, 0, 0, 0, 0, 0, 0, 0, 0, 0, 0, 0, 0, 0, 0, 0, 0, 0, 0, 0, 0, 0, 0, 0, 0, 0, 0, 0, 0, 0, 0, 0, 0]\n"
     ]
    }
   ],
   "source": [
    "for peptide in range(len(peptides)):\n",
    "    theoretical =[0]*bin_size\n",
    "    y_ion = 0\n",
    "    \n",
    "    for s in range(len(peptides[peptide])-1):\n",
    "        reversed_character = len(peptides[peptide])-1-s\n",
    "        if peptides[peptide][reversed_character] ==\"L\":\n",
    "            y_ion += L\n",
    "        if peptides[peptide][reversed_character] ==\"S\":\n",
    "            y_ion += S\n",
    "        if peptides[peptide][reversed_character] ==\"K\":\n",
    "            y_ion += K\n",
    "        if peptides[peptide][reversed_character] ==\"E\":\n",
    "            y_ion += E\n",
    "        if peptides[peptide][reversed_character] ==\"G\":\n",
    "            y_ion += G\n",
    "        if peptides[peptide][reversed_character] ==\"A\":\n",
    "            y_ion += A\n",
    "        if peptides[peptide][reversed_character] ==\"V\":\n",
    "            y_ion += V        \n",
    "\n",
    "        index = int(y_ion/fragmentTolerance)\n",
    "        theoretical[index] = 1\n",
    "    print(theoretical)"
   ]
  },
  {
   "cell_type": "code",
   "execution_count": 64,
   "metadata": {},
   "outputs": [
    {
     "name": "stdout",
     "output_type": "stream",
     "text": [
      "368.0\n",
      "\n",
      "55.0\n",
      "\n",
      "576.0\n",
      "\n",
      "200.0\n",
      "\n",
      "454.0\n",
      "\n",
      "LSGAVEK\n",
      "576.0\n",
      "running time : 0.09981846809387207\n"
     ]
    }
   ],
   "source": [
    "\n",
    "bestXCorr=0\n",
    "startTime = time.time()\n",
    "\n",
    "for peptide in range(len(peptides)):\n",
    "    theoretical =[0]*bin_size\n",
    "    b_ion = 0\n",
    "    y_ion = 0\n",
    "    \n",
    "    for q in range(len(peptides[peptide])-1):\n",
    "        if peptides[peptide][q] ==\"L\":\n",
    "            b_ion += L\n",
    "            y_ion = pepmass - b_ion\n",
    "        if peptides[peptide][q] ==\"S\":\n",
    "            b_ion += S\n",
    "            y_ion = pepmass - b_ion\n",
    "        if peptides[peptide][q] ==\"K\":\n",
    "            b_ion += K\n",
    "            y_ion = pepmass - b_ion\n",
    "        if peptides[peptide][q] ==\"E\":\n",
    "            b_ion += E\n",
    "            y_ion = pepmass - b_ion\n",
    "        if peptides[peptide][q] ==\"G\":\n",
    "            b_ion += G\n",
    "            y_ion = pepmass - b_ion\n",
    "        if peptides[peptide][q] ==\"A\":\n",
    "            b_ion += A\n",
    "            y_ion = pepmass - b_ion\n",
    "        if peptides[peptide][q] ==\"V\":\n",
    "            b_ion += V\n",
    "            y_ion = pepmass - b_ion\n",
    "        indexb = int(b_ion/fragmentTolerance)\n",
    "        indexy = int(y_ion/fragmentTolerance)\n",
    "        theoretical[indexb] = 1\n",
    "        theoretical[indexy] = 1\n",
    "    #print(theoretical)\n",
    "    \n",
    "    tau = 74\n",
    "    intensity_sum = 0\n",
    "    xcorr_sum = 0\n",
    "    xcorr_avg = 0\n",
    "    xcorr = 0\n",
    "    \n",
    "    # tau + n\n",
    "\n",
    "    for c in range(tau):\n",
    "        intensity_sum += experimental[c]\n",
    "    for c in range(tau, bin_size+tau):\n",
    "        if c < bin_size:\n",
    "            intensity_sum += experimental[c]\n",
    "        if c >= (2*tau)+1:\n",
    "            intensity_sum -= experimental[c-(2*tau+1)]\n",
    "        xcorr_sum += theoretical[c-tau]*intensity_sum\n",
    "        \n",
    "    for c in range(bin_size):\n",
    "        xcorr += experimental[c] * theoretical[c]\n",
    "        \n",
    "    xcorr_avg = (xcorr_sum - xcorr) / (2*tau)\n",
    "    xcorr -= xcorr_avg\n",
    "\n",
    "    \n",
    "    if xcorr > bestXCorr:\n",
    "        bestPeptide = peptides[peptide]\n",
    "        bestXCorr = xcorr\n",
    "        \n",
    "    print(xcorr)\n",
    "    print(\"\")\n",
    "    \n",
    "print(bestPeptide)\n",
    "print(bestXCorr)\n",
    "print(\"running time :\",time.time() - startTime)"
   ]
  },
  {
   "cell_type": "code",
   "execution_count": null,
   "metadata": {},
   "outputs": [],
   "source": [
    "'''\n",
    "tn\n",
    "fragmentTolerance = 1 일때 0.0979s\n",
    "fragmentTolerance = 0.1 일때 1.0921s\n",
    "fragmentTolerance = 0.01 일때 11.1047s\n",
    "fragmentTolerance = 0.001 일때 109.944s\n",
    "\n",
    "t+n\n",
    "fragmentTolerance = 1 일때 0.001s\n",
    "fragmentTolerance = 0.1 일때 0.01s\n",
    "fragmentTolerance = 0.01 일때 0.1s\n",
    "\n",
    "'''\n"
   ]
  },
  {
   "cell_type": "code",
   "execution_count": null,
   "metadata": {},
   "outputs": [],
   "source": []
  }
 ],
 "metadata": {
  "kernelspec": {
   "display_name": "Python 3",
   "language": "python",
   "name": "python3"
  },
  "language_info": {
   "codemirror_mode": {
    "name": "ipython",
    "version": 3
   },
   "file_extension": ".py",
   "mimetype": "text/x-python",
   "name": "python",
   "nbconvert_exporter": "python",
   "pygments_lexer": "ipython3",
   "version": "3.8.8"
  }
 },
 "nbformat": 4,
 "nbformat_minor": 4
}
