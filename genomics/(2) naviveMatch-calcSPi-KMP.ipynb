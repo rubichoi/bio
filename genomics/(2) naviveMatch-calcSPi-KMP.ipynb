{
 "cells": [
  {
   "cell_type": "code",
   "execution_count": null,
   "metadata": {
    "colab": {
     "base_uri": "https://localhost:8080/",
     "height": 525
    },
    "colab_type": "code",
    "id": "VbnBfekX7ZRA",
    "outputId": "04266305-fe3e-49b2-88f0-3e8cf7c8e60b"
   },
   "outputs": [
    {
     "name": "stdout",
     "output_type": "stream",
     "text": [
      "Collecting ipython-autotime\n",
      "  Downloading https://files.pythonhosted.org/packages/e6/f9/0626bbdb322e3a078d968e87e3b01341e7890544de891d0cb613641220e6/ipython-autotime-0.1.tar.bz2\n",
      "Building wheels for collected packages: ipython-autotime\n",
      "  Building wheel for ipython-autotime (setup.py) ... \u001b[?25l\u001b[?25hdone\n",
      "  Created wheel for ipython-autotime: filename=ipython_autotime-0.1-cp36-none-any.whl size=1832 sha256=4b3a12ef94135747b4d7c58638dbbed455d1938f53529d622d80f3566732a302\n",
      "  Stored in directory: /root/.cache/pip/wheels/d2/df/81/2db1e54bc91002cec40334629bc39cfa86dff540b304ebcd6e\n",
      "Successfully built ipython-autotime\n",
      "Installing collected packages: ipython-autotime\n",
      "Successfully installed ipython-autotime-0.1\n",
      "Go to this URL in a browser: https://accounts.google.com/o/oauth2/auth?client_id=947318989803-6bn6qk8qdgf4n4g3pfee6491hc0brc4i.apps.googleusercontent.com&redirect_uri=urn%3aietf%3awg%3aoauth%3a2.0%3aoob&response_type=code&scope=email%20https%3a%2f%2fwww.googleapis.com%2fauth%2fdocs.test%20https%3a%2f%2fwww.googleapis.com%2fauth%2fdrive%20https%3a%2f%2fwww.googleapis.com%2fauth%2fdrive.photos.readonly%20https%3a%2f%2fwww.googleapis.com%2fauth%2fpeopleapi.readonly\n",
      "\n",
      "Enter your authorization code:\n",
      "··········\n",
      "Mounted at gdrive\n",
      "/content/gdrive/My Drive/bio\n",
      "total 5209\n",
      "-rw------- 1 root root   28401 Jul  2 06:33 BALST_practice_result.txt\n",
      "-rw------- 1 root root     414 Jul  2 06:30 BLAST_practice_query.fasta\n",
      "-rw------- 1 root root   30924 Jun 23 06:06 Covid-19_genome.fa\n",
      "-rw------- 1 root root    7582 Jun 23 06:00 Covid-19.gff\n",
      "-rw------- 1 root root 2357887 Jul  5 01:38 COVID19_SARS.sam\n",
      "-rw------- 1 root root  893103 Jul  2 05:27 COVID19_SARS_sorted.bam.bam\n",
      "-rw------- 1 root root     152 Jul  2 05:27 COVID19_SARS_sorted.bam.bam.bai\n",
      "-rw------- 1 root root  990633 Jul  2 05:11 COVID19_simul_1.fq\n",
      "-rw------- 1 root root  990633 Jul  2 05:11 COVID19_simul_2.fq\n",
      "-rw------- 1 root root      92 Jun 23 06:16 GU280_gp11.fa\n",
      "-rw------- 1 root root   30258 Jun 27 07:02 SARS.fasta\n",
      "-rw------- 1 root root      26 Jul  2 05:29 SARS.fasta.fai\n"
     ]
    }
   ],
   "source": [
    "!pip install ipython-autotime\n",
    "%load_ext autotime\n",
    "# 구글 드라이브 마운트\n",
    "from google.colab import drive\n",
    "drive.mount(\"gdrive\")\n",
    "# 작업 디렉토리로 이동\n",
    "%cd \"/content/gdrive/My Drive/bio\"\n",
    "# 데이터셋 확인 \n",
    "!ls -al ./실습자료"
   ]
  },
  {
   "cell_type": "code",
   "execution_count": null,
   "metadata": {
    "colab": {
     "base_uri": "https://localhost:8080/",
     "height": 86
    },
    "colab_type": "code",
    "id": "thobjcAj97V9",
    "outputId": "a1fcafeb-1507-46f4-971e-602a40734b7c"
   },
   "outputs": [
    {
     "name": "stdout",
     "output_type": "stream",
     "text": [
      "pattern found at  2\n",
      "pattern found at  5\n",
      "pattern found at  7\n",
      "time: 6.76 ms\n"
     ]
    }
   ],
   "source": [
    "text = 'ATAGCAGAGGACT'\n",
    "pattern = 'AG'\n",
    "\n",
    "def naviveMatch(txt, pat):\n",
    "  for index in range(len(txt)-len(pat)+1):\n",
    "    isFound = True\n",
    "    for patIndex in range(len(pat)):\n",
    "      if txt[index+patIndex] == pat[patIndex]:\n",
    "        continue\n",
    "      else:\n",
    "        isFound = False\n",
    "        break\n",
    "\n",
    "    if isFound:\n",
    "      print(\"pattern found at \",index)\n",
    "\n",
    "naviveMatch(text,pattern)\n"
   ]
  },
  {
   "cell_type": "code",
   "execution_count": null,
   "metadata": {
    "colab": {
     "base_uri": "https://localhost:8080/",
     "height": 52
    },
    "colab_type": "code",
    "id": "da9OgTmfBPOO",
    "outputId": "995ebbd4-f7f8-4603-d89a-54db170e56f9"
   },
   "outputs": [
    {
     "name": "stdout",
     "output_type": "stream",
     "text": [
      "pattern found at  29558\n",
      "time: 37.1 ms\n"
     ]
    }
   ],
   "source": [
    "WORK_DIR = './실습자료/'\n",
    "txt_file = open(WORK_DIR + 'Covid-19_genome.fa','r')\n",
    "pat_file = open(WORK_DIR + 'GU280_gp11.fa','r')\n",
    "\n",
    "def naviveMatch(txt, pat):\n",
    "  for index in range(len(txt)-len(pat)+1):\n",
    "    isFound = True\n",
    "    for patIndex in range(len(pat)):\n",
    "      if txt[index+patIndex] == pat[patIndex]:\n",
    "        continue\n",
    "      else:\n",
    "        isFound = False\n",
    "        break\n",
    "\n",
    "    if isFound:\n",
    "      print(\"pattern found at \",index)\n",
    "\n",
    "text = ''\n",
    "for line in txt_file:\n",
    "  if line.startswith('>'):\n",
    "    continue\n",
    "  line = line.rstrip('\\r\\n')\n",
    "  text += line\n",
    "\n",
    "pattern = ''\n",
    "for line in pat_file:\n",
    "  if line.startswith('>'):\n",
    "    continue\n",
    "  line = line.rstrip('\\r\\n')\n",
    "  pattern += line\n",
    "\n",
    "naviveMatch(text, pattern)\n",
    "\n",
    "txt_file.close()\n",
    "pat_file.close()"
   ]
  },
  {
   "cell_type": "code",
   "execution_count": null,
   "metadata": {
    "colab": {
     "base_uri": "https://localhost:8080/",
     "height": 69
    },
    "colab_type": "code",
    "id": "DVtG8ECaIXT9",
    "outputId": "5e2ea02e-3826-4bbb-9286-1e62eed7c2f8"
   },
   "outputs": [
    {
     "name": "stdout",
     "output_type": "stream",
     "text": [
      "[0, 0, 0, 1, 2, 0, 1, 2, 3, 4, 5, 6]\n",
      "Pattern found at  19\n",
      "time: 21.2 ms\n"
     ]
    }
   ],
   "source": [
    "text = 'abcabdavcabcabdbbacabcabdabcabdcab'\n",
    "pattern = 'abcabdabcabd'\n",
    "spi_list = []\n",
    "\n",
    "def calcSPi(pat):\n",
    "  spi_list.append(0)\n",
    "  index = 1\n",
    "  prev_sp = 0\n",
    "  while index < len(pat):\n",
    "    if pat[index] == pat[prev_sp]:\n",
    "      prev_sp += 1\n",
    "      spi_list.append(prev_sp)\n",
    "      index += 1\n",
    "    else:\n",
    "      if prev_sp == 0:\n",
    "        spi_list.append(0)\n",
    "        index += 1\n",
    "      else:\n",
    "        prev_sp = spi_list[prev_sp-1]\n",
    "\n",
    "  return spi_list\n",
    "\n",
    "print(calcSPi(pattern))\n",
    "\n",
    "\n",
    "def KMP(txt, pat, spi):\n",
    "  txt_index = 0\n",
    "  pat_index = 0\n",
    "\n",
    "  while txt_index <len(txt):\n",
    "    \n",
    "    if txt[txt_index] == pat[pat_index]:\n",
    "      txt_index += 1\n",
    "      pat_index += 1\n",
    "\n",
    "    if pat_index == len(pat):\n",
    "      print(\"Pattern found at \", txt_index - pat_index)\n",
    "      pat_index = spi[pat_index-1]\n",
    "    \n",
    "    elif txt_index < len(txt) and txt[txt_index] != pat[pat_index]:\n",
    "      if pat_index != 0:\n",
    "        pat_index = spi[pat_index-1]\n",
    "      else: \n",
    "        txt_index += 1\n",
    "\n",
    "\n",
    "\n",
    "KMP(text, pattern, calcSPi(pattern))"
   ]
  },
  {
   "cell_type": "code",
   "execution_count": null,
   "metadata": {
    "colab": {},
    "colab_type": "code",
    "id": "njMOoLP7BkYO"
   },
   "outputs": [],
   "source": []
  }
 ],
 "metadata": {
  "colab": {
   "collapsed_sections": [],
   "name": "20200707.ipynb",
   "provenance": []
  },
  "kernelspec": {
   "display_name": "Python 3",
   "language": "python",
   "name": "python3"
  },
  "language_info": {
   "codemirror_mode": {
    "name": "ipython",
    "version": 3
   },
   "file_extension": ".py",
   "mimetype": "text/x-python",
   "name": "python",
   "nbconvert_exporter": "python",
   "pygments_lexer": "ipython3",
   "version": "3.8.8"
  }
 },
 "nbformat": 4,
 "nbformat_minor": 1
}
