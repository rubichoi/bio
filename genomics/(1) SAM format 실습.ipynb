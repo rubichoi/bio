{
 "cells": [
  {
   "cell_type": "markdown",
   "metadata": {},
   "source": [
    "### Position 1~1000 사이에 맵핑된 데이터를 분석"
   ]
  },
  {
   "cell_type": "code",
   "execution_count": 1,
   "metadata": {},
   "outputs": [
    {
     "name": "stdout",
     "output_type": "stream",
     "text": [
      "48\n"
     ]
    }
   ],
   "source": [
    "sam=open(\"C:/Users/user/바이오 빅데이터/실습자료/COVID19_SARS.sam\",'r')\n",
    "\n",
    "\n",
    "POS =[]\n",
    "for line in sam:\n",
    "    line = line.rstrip(\"\\n\")\n",
    "    \n",
    "    if line.startswith(\"covid\"):\n",
    "        line3 = int(line.split(\"\\t\")[3])\n",
    "        if line3>=1 and line3<=1000:\n",
    "            POS.append(line3)\n",
    "            \n",
    "print(len(POS))\n",
    "sam.close()\n",
    "            "
   ]
  },
  {
   "cell_type": "markdown",
   "metadata": {},
   "source": [
    "### Position 1~1000 사이에 맵핑된 데이터를 분석 + Reverse strand 로 맵핑된 정보 추출"
   ]
  },
  {
   "cell_type": "code",
   "execution_count": 4,
   "metadata": {},
   "outputs": [
    {
     "name": "stdout",
     "output_type": "stream",
     "text": [
      "0\n"
     ]
    }
   ],
   "source": [
    "sam=open(\"C:/Users/user/바이오 빅데이터/실습자료/COVID19_SARS.sam\",'r')\n",
    "\n",
    "POS =[]\n",
    "FLAG =[]\n",
    "POS1000 = []\n",
    "mappingFLAG = []\n",
    "flag = []\n",
    "for line in sam:\n",
    "    line = line.rstrip(\"\\n\")\n",
    "    \n",
    "    if line.startswith(\"covid\"):\n",
    "        POS = int(line.split(\"\\t\")[3])\n",
    "        FLAG = int(line.split(\"\\t\")[1])\n",
    "        if 1 <= POS <= 1000 and bin(FLAG)[-3] == '1':\n",
    "            POS1000.append(POS)\n",
    "            mappingFLAG.append(FLAG)\n",
    "            \n",
    "#for li in FLAG:\n",
    "#    flag = bin(li)\n",
    "#    if flag[-5]==1:\n",
    "#        flag.append(li)\n",
    "\n",
    "print(POS)\n",
    "\n",
    "#print(len(flag))\n",
    "sam.close()"
   ]
  },
  {
   "cell_type": "code",
   "execution_count": 18,
   "metadata": {},
   "outputs": [
    {
     "data": {
      "text/plain": [
       "'01001101'"
      ]
     },
     "execution_count": 18,
     "metadata": {},
     "output_type": "execute_result"
    }
   ],
   "source": [
    "bin(77)\n",
    "bin(77)[2:]\n",
    "bin(77)[2:].zfill(8)"
   ]
  },
  {
   "cell_type": "code",
   "execution_count": 39,
   "metadata": {},
   "outputs": [
    {
     "name": "stdout",
     "output_type": "stream",
     "text": [
      "['191', '404', '678', '432', '117', '214', '524', '289', '594', '186', '258', '549', '205', '524', '289', '577', '28', '334', '175', '45', '347', '279', '568', '178', '40', '334', '28', '310', '5', '325', '250', '545', '430', '710', '295', '613', '146', '443', '63', '360', '191', '524', '301', '594']\n",
      "44\n"
     ]
    }
   ],
   "source": [
    "class ReadMap:\n",
    "    def __init__(self,read):\n",
    "        temp = read.split()\n",
    "        \n",
    "        self.qname = temp[0]\n",
    "        self.flag = bin(int(temp[1]))[2:].zfill(8)\n",
    "        self.rname = temp[2]\n",
    "        self.pos = temp[3]\n",
    "        self.mapq = temp[4]\n",
    "        self.cigar = temp[5]\n",
    "        \n",
    "        self.info = read\n",
    "\n",
    "in_file = open(\"C:/Users/ADMIN/Desktop/실습자료/COVID19_SARS.sam\",'r')\n",
    "\n",
    "position_1000_data = []\n",
    "\n",
    "for line in in_file:\n",
    "    if line.startswith(\"@\"):\n",
    "        continue\n",
    "    # mapping잘 된것만 추출\n",
    "    mapping = ReadMap(line)\n",
    "    if mapping.flag[-3] == '1':\n",
    "        continue\n",
    "    # pos 1 ~ 1000 사이만 추출\n",
    "    if 1 <= int(mapping.pos) <= 1000:\n",
    "        position_1000_data.append(mapping.pos)\n",
    "\n",
    "print(position_1000_data)\n",
    "print(len(position_1000_data))\n",
    "in_file.close()"
   ]
  },
  {
   "cell_type": "code",
   "execution_count": 44,
   "metadata": {},
   "outputs": [
    {
     "name": "stdout",
     "output_type": "stream",
     "text": [
      "867\n"
     ]
    }
   ],
   "source": [
    "in_file = open(\"C:/Users/ADMIN/Desktop/실습자료/COVID19_SARS.sam\",'r')\n",
    "\n",
    "isreverse = []\n",
    "\n",
    "for line in in_file:\n",
    "    if line.startswith(\"@\"):\n",
    "        continue\n",
    "    # mapping잘 된것만 추출\n",
    "    mapping = ReadMap(line)\n",
    "    if mapping.flag[-3] == '1':\n",
    "        continue\n",
    "    # reverse data이냐?\n",
    "    if mapping.flag[-5] == '1':\n",
    "        isreverse.append(mapping.flag)\n",
    "\n",
    "#print(isreverse)\n",
    "print(len(isreverse))\n",
    "in_file.close()"
   ]
  },
  {
   "cell_type": "code",
   "execution_count": 54,
   "metadata": {},
   "outputs": [
    {
     "name": "stdout",
     "output_type": "stream",
     "text": [
      "1117\n"
     ]
    }
   ],
   "source": [
    "class ReadMap:\n",
    "    def __init__(self,read):\n",
    "        temp = read.split()\n",
    "        \n",
    "        self.qname = temp[0]\n",
    "        self.flag = bin(int(temp[1]))[2:].zfill(8)\n",
    "        self.rname = temp[2]\n",
    "        self.pos = temp[3]\n",
    "        self.mapq = temp[4]\n",
    "        self.cigar = temp[5]\n",
    "        \n",
    "        self.info = read\n",
    "\n",
    "in_file = open(\"C:/Users/ADMIN/Desktop/실습자료/COVID19_SARS.sam\",'r')\n",
    "notP = []\n",
    "\n",
    "for line in in_file:\n",
    "    if line.startswith(\"@\"):\n",
    "        continue\n",
    "    mapping = ReadMap(line)\n",
    "    if mapping.flag[-3] == '1':\n",
    "        continue\n",
    "    if int(mapping.mapq) < 30:\n",
    "        notP.append(mapping.mapq)\n",
    "\n",
    "#print(notP)\n",
    "print(len(notP))\n",
    "\n",
    "in_file.close()"
   ]
  },
  {
   "cell_type": "code",
   "execution_count": 57,
   "metadata": {},
   "outputs": [
    {
     "name": "stdout",
     "output_type": "stream",
     "text": [
      "['5S15M1D3M1I76M', '55M1D6M1I13M1D4M1I20M', '26S22M2D47M5S', '2S51M1D3M1I40M3S', '73M1D4M1I22M', '94M1I5M', '3S53M1D4M1I37M2S', '54M2I6M2D37M1S', '30M1D1M2D36M2I5M1I21M4S', '62M1D3M1I34M', '1S56M1D26M1I5M11S', '19S9M3I67M2S', '8S22M2D70M', '10M3D10M2I78M', '4S45M2D4M2I35M10S', '42M1D4M1I53M', '53M1I4M1D42M', '32M1I2M1D65M', '14M1I2M1D53M30S', '58M2D4M2I35M1S', '47M1I11M1D41M', '2S48M1D6M1I43M', '1S69M2I6M2D22M', '31M1D4M1I63M1S', '25S28M1D8M1I37M1S', '2S35M1D4M1I58M', '4S13M1D4M1I78M', '3S55M2I6M2D34M', '29M2I5M1I25M1I2M4D9M3I21M2S', '61M1D1M2D38M', '55M1I4M1D14M3D23M3S', '55M1D3M1I41M', '63M1I4M1D14M3D18M', '39S31M1D5M1I24M', '14M3D86M', '70M1D1M2D29M', '20M1D2M1I59M18S', '61M1I2M1D36M', '8M1I3M1D87M1S', '2S55M2I6M2D35M', '11S53M1D4M1I31M', '11S51M1D3M1I32M2S', '24S38M1I3M1D32M2S', '83M1I2M1D14M', '40M1D2M1I42M1I3M1D5M6S', '36M2I5M1I21M35S', '61M3I4M3D32M', '2S42M3I52M1S', '15S37M1D2M2D38M1D5M3S', '7S38M1I3M1D51M', '3S63M1D3M1I28M2S', '5S5M1I25M1I2M4D9M3I49M', '1S67M7D29M3S', '12S56M3D32M', '70M1D4M1I25M', '62M1I2M1D33M2S', '40M1I2M1D57M', '17S53M1D4M1I25M', '2S15M2D4M2I77M', '4S86M1D10M', '5S65M1I2M1D27M', '17M3D83M', '30S6M2D64M', '6S51M1D3M1I39M', '4S74M1D17M5S', '22M1I4M1D73M', '81M3D18M1S', '8M1I4M1D87M', '60M1D3M1I26M10S', '1S5M1I25M1I2M4D9M3I51M2S', '78M1D4M1I17M', '6S7M1I86M', '5S36M2D4M4D22M2D33M', '16M3I7M2D3M1D71M', '59M1I4M1D14M3D22M', '4S12M1I83M', '4S14M1I2M1D79M', '16S22M2D62M', '57M1D4M1I38M', '3S38M1D1M2D36M2I5M1I14M', '29S22M2D47M2S', '11S38M1I3M1D44M3S', '2S8M1I3M1D86M', '47M1I2M1D50M', '2S69M1D3M1I23M2S', '63M1D4M1I30M2S', '16S38M1I3M1D42M', '26S22M2D47M5S', '15S59M1I3M1D22M', '4S40M1I2M1D53M', '15S38M1I3M1D43M', '42M2D4M2I52M', '47M1I7M1D35M10S', '21M1D26M1I5M47S', '1S15M2D4M2I78M', '5S86M1D9M', '56M1D2M1I41M', '49M1D5M1I45M', '34S9M1D4M1I50M2S', '4S36M2D4M4D22M2D33M1S', '2S41M1I3M1D53M', '2S65M1D4M1I28M', '38M1I4M1D47M10S', '6S84M1I6M3S', '1S38M1I3M1D57M', '82M3D10M2I6M', '50M2D4M4D22M2D24M', '72M1I2M1D17M8S', '24S6M2D70M', '8S38M1D1M2D38M1D5M10S', '64M1I4M1D25M6S', '29M1I2M1D65M3S', '36M2D4M4D22M2D38M', '78M1I2M1D17M2S', '46M1D4M1I49M', '34M2I5M1I25M1I2M4D9M3I15M3S', '2S67M1D4M1I26M', '46M1D6M1I47M', '2S46M2I6M2D42M2S', '61M1D1M2D38M', '63M1D3M1I33M', '2S29M1I7M1D61M', '43M1D5M1I51M', '41M1D3M1I55M', '3S14M1I2M1D80M', '77M1I2M1D17M3S', '64M1I4M1D25M6S', '21M1I2M1D76M', '56M2D4M2I35M3S', '15S12M1I70M2S', '42M1D4M1I53M', '5S51M1D3M1I40M', '26M1D26M1I5M42S', '39M1D3M1I55M2S', '18M1I2M1I15M1I62M', '3S48M1I2M1I6M2D37M2S', '68M1I4M1D25M2S', '30M2D4M4D22M2D44M', '6S36M2D4M4D22M2D32M', '33M1D4M1I58M4S', '2S72M1I5M1D20M', '49M1D3M1I46M1S', '60M1I2M1D37M', '21S22M2D57M', '41M1D3M1I50M5S', '15M2D4M2I79M', '28S55M1I4M1D11M1S', '21S13M1D4M1I41M20S', '42M1I4M1D47M6S', '38M1I4M1D47M10S', '23M1D2M1I42M1I3M1D28M', '4S4M1D92M', '1S45M2D4M2I48M', '38M1I4M1D50M7S', '10M1I4M1D83M2S', '39M1I2M1D53M5S', '64M1D4M1I29M2S', '65M1D2M1I32M', '44M1I2M1D53M', '53M1D26M1I5M15S', '3S55M1D4M1I37M', '16S53M1D4M1I25M1S', '1S69M1I4M1D25M', '33M1D1M2D36M2I5M1I21M1S', '83M1D17M', '30M1I3M1D66M', '70M1I4M1D24M1S', '5S33M1I2M1D59M', '51M1I4M1D44M', '48M1I4M1D47M', '82M1D4M1I13M', '49M1D4M1I46M', '13S32M1D3M1I51M', '2S45M1I2M1D50M', '80M1D2M1I17M', '39M1I2M1D41M1I3M1D13M', '8S45M2D4M2I35M6S', '70M1D4M1I25M', '15S9M3I67M6S', '2S75M1D3M1I17M2S', '11M1I2M1D86M', '14S31M1D6M1I36M12S', '11S36M2D4M4D22M2D27M', '12M1D3M1I82M2S', '44M1D26M1I5M24S', '18S38M1D1M2D38M1D5M', '11S6M2D80M3S', '22M1D1M2D36M2I5M1I21M12S', '51M1D4M1I44M', '34M1D6M1I58M1S', '3S46M2I6M2D42M1S', '44M2D4M2I50M', '64M3D10M2I24M', '9S31M1D5M1I37M17S', '28M1D1M2D36M2I5M1I21M6S', '1S91M1I6M1S', '54M1D2M1I43M', '52M1D2M1I45M', '21M1D1M2D36M2I5M1I21M13S', '53M1D4M1I42M', '11M1I4M1D83M1S', '23M1D2M1I42M1I3M1D28M', '80M1D4M1I15M', '23M1I7M1D68M1S', '13M2I5M1I25M1I2M4D9M3I39M', '74M1I4M1D20M1S', '4S84M1I4M1D7M', '48M1I2M1D49M', '27M1D26M1I5M41S', '4S40M1I2M1D53M', '2S56M1D33M9S', '10S38M1I3M1D48M', '61M1D1M2D38M', '33M1I3M1D63M', '2S31M1D4M1I62M', '3S62M1I3M1D20M11S', '18S38M1I3M1D40M', '31M1D5M1I37M26S', '28M1D2M1I42M1I3M1D20M3S', '43M1I3M1D53M', '21S38M1D1M2D39M1S', '32M1D1M2D36M2I5M1I21M2S', '15S53M1D4M1I25M2S', '28S6M2D66M', '27M1D4M1I68M', '41M1D26M1I5M27S', '6S69M2I6M2D14M3S', '10M1I2M1D87M', '26M2I5M1I25M1I2M4D9M3I26M', '64M1D26M1I5M4S']\n",
      "230\n"
     ]
    }
   ],
   "source": [
    "class ReadMap:\n",
    "    def __init__(self,read):\n",
    "        temp = read.split()\n",
    "        \n",
    "        self.qname = temp[0]\n",
    "        self.flag = bin(int(temp[1]))[2:].zfill(8)\n",
    "        self.rname = temp[2]\n",
    "        self.pos = temp[3]\n",
    "        self.mapq = temp[4]\n",
    "        self.cigar = temp[5]\n",
    "        \n",
    "        self.info = read\n",
    "\n",
    "in_file = open(\"C:/Users/ADMIN/Desktop/실습자료/COVID19_SARS.sam\",'r')\n",
    "ID = []\n",
    "\n",
    "for line in in_file:\n",
    "    if line.startswith(\"@\"):\n",
    "        continue\n",
    "    mapping = ReadMap(line)\n",
    "    if mapping.flag[-3] == '1':\n",
    "        continue\n",
    "\n",
    "    if 'I' in mapping.cigar or 'D' in mapping.cigar:\n",
    "        ID.append(mapping.cigar)\n",
    "\n",
    "print(ID)\n",
    "print(len(ID))\n",
    "    \n",
    "in_file.close()"
   ]
  },
  {
   "cell_type": "code",
   "execution_count": 56,
   "metadata": {},
   "outputs": [
    {
     "name": "stdout",
     "output_type": "stream",
     "text": [
      "[52, 56, 60, 64, 68, 72, 76, 80, 84, 88, 92, 96, 100, 16, 10, 200, 300, 78, 2, 16, 10, 200, 300, 78, 2]\n"
     ]
    }
   ],
   "source": [
    "li = [8,5,100,150,39,1]\n",
    "for v in li:\n",
    "    li2.append(v*2)\n",
    "print(li2)"
   ]
  },
  {
   "cell_type": "code",
   "execution_count": 3,
   "metadata": {},
   "outputs": [
    {
     "data": {
      "text/plain": [
       "True"
      ]
     },
     "execution_count": 3,
     "metadata": {},
     "output_type": "execute_result"
    }
   ],
   "source": [
    "a = '9'\n",
    "'0' <= a <= '9'"
   ]
  },
  {
   "cell_type": "code",
   "execution_count": 4,
   "metadata": {},
   "outputs": [
    {
     "data": {
      "text/plain": [
       "False"
      ]
     },
     "execution_count": 4,
     "metadata": {},
     "output_type": "execute_result"
    }
   ],
   "source": [
    "'0' <= 'x' <= '9'"
   ]
  },
  {
   "cell_type": "code",
   "execution_count": 5,
   "metadata": {},
   "outputs": [
    {
     "data": {
      "text/plain": [
       "True"
      ]
     },
     "execution_count": 5,
     "metadata": {},
     "output_type": "execute_result"
    }
   ],
   "source": [
    "'0' <= '3' <= '9'"
   ]
  },
  {
   "cell_type": "code",
   "execution_count": null,
   "metadata": {},
   "outputs": [],
   "source": []
  }
 ],
 "metadata": {
  "kernelspec": {
   "display_name": "Python 3",
   "language": "python",
   "name": "python3"
  },
  "language_info": {
   "codemirror_mode": {
    "name": "ipython",
    "version": 3
   },
   "file_extension": ".py",
   "mimetype": "text/x-python",
   "name": "python",
   "nbconvert_exporter": "python",
   "pygments_lexer": "ipython3",
   "version": "3.8.8"
  }
 },
 "nbformat": 4,
 "nbformat_minor": 4
}
